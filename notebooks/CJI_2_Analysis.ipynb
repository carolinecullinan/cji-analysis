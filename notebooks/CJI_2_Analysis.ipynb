{
 "cells": [
  {
   "cell_type": "markdown",
   "id": "19920d1c",
   "metadata": {},
   "source": [
    "## Center for Justice Innovation: Research and Data Associate Data Task: 2 ANALYSIS"
   ]
  },
  {
   "cell_type": "markdown",
   "id": "4239ebcb",
   "metadata": {},
   "source": [
    "#### Prompt\n",
    "\n",
    "<b>Background</b>\n",
    "\n",
    "The attached datasets are for a theoretical alternative sentencing program for individuals 15 and older who were court-mandated either to group sessions or individual counseling services (or both) with a nonprofit agency.\n",
    "\n",
    "<b>Instructions</b>\n",
    "\n",
    "Based on the data, please tell us, grouped by people younger than 25 and those 25 and older (<b>at the time their case opened</b>):\n",
    "1.\tHow many individuals attended at least one individual counseling session in 2019?\n",
    "2.\tHow many individuals attended at least one group counseling session in 2019?\n",
    "3.\tOf the individuals who attended at least one individual counseling session, what is the average number of individual counseling sessions attended by year?\n",
    "4.\tHow has the average individual counseling sessions attended changed between 2018 and 2019?\n",
    "5.\tAmong closed cases, which individual had the highest group counseling session attendance rate, excluding cancelled sessions?\n",
    "6.\tAmong closed cases, identify the individual(s) that had an individual counseling session attendance rate (excluding cancelled sessions) in the bottom quartile.\n",
    "7.\tExplain how you would approach summarizing or visually presenting the above findings to program staff.\n",
    "\n",
    "Please summarize the steps you used to get the above information (including any data cleaning needed) and list any lingering questions and key findings. Please include any definitions or assumptions you made to complete the task.\n"
   ]
  },
  {
   "cell_type": "markdown",
   "id": "bc539ff5",
   "metadata": {},
   "source": [
    "#### 08/01/2023 at 16:00 CEST\n",
    "* Read in interim data, \"data.csv\"\n",
    "* analyze data\n",
    "* Export processed data"
   ]
  },
  {
   "cell_type": "markdown",
   "id": "e2d993c5",
   "metadata": {},
   "source": [
    "### NOTE: Access the accompanying Google Doc: https://docs.google.com/document/d/1KlWVkjx1sDyvUm6yZoa13OFqU4YUC3WW4-6VmCHdw9g/edit?usp=sharing"
   ]
  },
  {
   "cell_type": "code",
   "execution_count": 1,
   "id": "70de1d75",
   "metadata": {},
   "outputs": [],
   "source": [
    "# import necessary packages\n",
    "import os\n",
    "import numpy as np\n",
    "import pandas as pd\n",
    "import seaborn as sns\n",
    "#from datetime import datetime"
   ]
  },
  {
   "cell_type": "code",
   "execution_count": 2,
   "id": "08478b06",
   "metadata": {},
   "outputs": [
    {
     "name": "stdout",
     "output_type": "stream",
     "text": [
      "Directory Changes\n",
      "Current working directory is: C:\\Users\\Carol\\Documents\\Work\\WorkOpportunities\\CJI\\cji-analysis\n"
     ]
    }
   ],
   "source": [
    "# change working directory to a specified directory\n",
    "os.chdir('../')\n",
    "print(\"Directory Changes\")\n",
    "\n",
    "# Get current working directory\n",
    "cwd = os.getcwd()\n",
    "print(\"Current working directory is:\", cwd)"
   ]
  },
  {
   "cell_type": "markdown",
   "id": "0158a18d",
   "metadata": {},
   "source": [
    "### 0. Read in Data"
   ]
  },
  {
   "cell_type": "code",
   "execution_count": 3,
   "id": "9cd9d7ee",
   "metadata": {},
   "outputs": [],
   "source": [
    "# read in data, 'data.csv'\n",
    "data = pd.read_csv(\"data/interim/data.csv\")"
   ]
  },
  {
   "cell_type": "code",
   "execution_count": 4,
   "id": "abceb8de",
   "metadata": {},
   "outputs": [
    {
     "data": {
      "text/plain": [
       "(177, 26)"
      ]
     },
     "execution_count": 4,
     "metadata": {},
     "output_type": "execute_result"
    }
   ],
   "source": [
    "# gain insight into 'data'\n",
    "data.shape "
   ]
  },
  {
   "cell_type": "code",
   "execution_count": 5,
   "id": "fe925bac",
   "metadata": {},
   "outputs": [
    {
     "data": {
      "text/html": [
       "<div>\n",
       "<style scoped>\n",
       "    .dataframe tbody tr th:only-of-type {\n",
       "        vertical-align: middle;\n",
       "    }\n",
       "\n",
       "    .dataframe tbody tr th {\n",
       "        vertical-align: top;\n",
       "    }\n",
       "\n",
       "    .dataframe thead th {\n",
       "        text-align: right;\n",
       "    }\n",
       "</style>\n",
       "<table border=\"1\" class=\"dataframe\">\n",
       "  <thead>\n",
       "    <tr style=\"text-align: right;\">\n",
       "      <th></th>\n",
       "      <th>First Name</th>\n",
       "      <th>Last Name</th>\n",
       "      <th>Date of Birth</th>\n",
       "      <th>Person ID</th>\n",
       "      <th>Case Opened Date</th>\n",
       "      <th>Case Closed Date</th>\n",
       "      <th>Program</th>\n",
       "      <th>Program Date</th>\n",
       "      <th>Program Attendence</th>\n",
       "      <th>age</th>\n",
       "      <th>...</th>\n",
       "      <th>Program Attended</th>\n",
       "      <th>Program Not Attended</th>\n",
       "      <th>Program Cancelled</th>\n",
       "      <th>program_year_group</th>\n",
       "      <th>2018 Program</th>\n",
       "      <th>2019 Program</th>\n",
       "      <th>case_status_group</th>\n",
       "      <th>Case Not Confirmed Closed</th>\n",
       "      <th>Case Confirmed Closed</th>\n",
       "      <th>count</th>\n",
       "    </tr>\n",
       "  </thead>\n",
       "  <tbody>\n",
       "    <tr>\n",
       "      <th>0</th>\n",
       "      <td>Tweety</td>\n",
       "      <td>Bird</td>\n",
       "      <td>1987-05-09</td>\n",
       "      <td>1000010</td>\n",
       "      <td>2019-05-09</td>\n",
       "      <td>2019-10-16</td>\n",
       "      <td>Individual Counseling</td>\n",
       "      <td>2019-10-02</td>\n",
       "      <td>Cancelled</td>\n",
       "      <td>32</td>\n",
       "      <td>...</td>\n",
       "      <td>0</td>\n",
       "      <td>0</td>\n",
       "      <td>1</td>\n",
       "      <td>2019 Program</td>\n",
       "      <td>0</td>\n",
       "      <td>1</td>\n",
       "      <td>Case Confirmed Closed</td>\n",
       "      <td>0</td>\n",
       "      <td>1</td>\n",
       "      <td>1</td>\n",
       "    </tr>\n",
       "    <tr>\n",
       "      <th>1</th>\n",
       "      <td>Tweety</td>\n",
       "      <td>Bird</td>\n",
       "      <td>1987-05-09</td>\n",
       "      <td>1000010</td>\n",
       "      <td>2019-05-09</td>\n",
       "      <td>2019-10-16</td>\n",
       "      <td>Individual Counseling</td>\n",
       "      <td>2019-10-07</td>\n",
       "      <td>Cancelled</td>\n",
       "      <td>32</td>\n",
       "      <td>...</td>\n",
       "      <td>0</td>\n",
       "      <td>0</td>\n",
       "      <td>1</td>\n",
       "      <td>2019 Program</td>\n",
       "      <td>0</td>\n",
       "      <td>1</td>\n",
       "      <td>Case Confirmed Closed</td>\n",
       "      <td>0</td>\n",
       "      <td>1</td>\n",
       "      <td>1</td>\n",
       "    </tr>\n",
       "    <tr>\n",
       "      <th>2</th>\n",
       "      <td>Tweety</td>\n",
       "      <td>Bird</td>\n",
       "      <td>1987-05-09</td>\n",
       "      <td>1000010</td>\n",
       "      <td>2019-05-09</td>\n",
       "      <td>2019-10-16</td>\n",
       "      <td>Group Class</td>\n",
       "      <td>2019-09-13</td>\n",
       "      <td>Y</td>\n",
       "      <td>32</td>\n",
       "      <td>...</td>\n",
       "      <td>1</td>\n",
       "      <td>0</td>\n",
       "      <td>0</td>\n",
       "      <td>2019 Program</td>\n",
       "      <td>0</td>\n",
       "      <td>1</td>\n",
       "      <td>Case Confirmed Closed</td>\n",
       "      <td>0</td>\n",
       "      <td>1</td>\n",
       "      <td>1</td>\n",
       "    </tr>\n",
       "    <tr>\n",
       "      <th>3</th>\n",
       "      <td>Tweety</td>\n",
       "      <td>Bird</td>\n",
       "      <td>1987-05-09</td>\n",
       "      <td>1000010</td>\n",
       "      <td>2019-05-09</td>\n",
       "      <td>2019-10-16</td>\n",
       "      <td>Group Class</td>\n",
       "      <td>2019-09-21</td>\n",
       "      <td>Y</td>\n",
       "      <td>32</td>\n",
       "      <td>...</td>\n",
       "      <td>1</td>\n",
       "      <td>0</td>\n",
       "      <td>0</td>\n",
       "      <td>2019 Program</td>\n",
       "      <td>0</td>\n",
       "      <td>1</td>\n",
       "      <td>Case Confirmed Closed</td>\n",
       "      <td>0</td>\n",
       "      <td>1</td>\n",
       "      <td>1</td>\n",
       "    </tr>\n",
       "    <tr>\n",
       "      <th>4</th>\n",
       "      <td>Tweety</td>\n",
       "      <td>Bird</td>\n",
       "      <td>1987-05-09</td>\n",
       "      <td>1000010</td>\n",
       "      <td>2019-05-09</td>\n",
       "      <td>2019-10-16</td>\n",
       "      <td>Group Class</td>\n",
       "      <td>2019-09-29</td>\n",
       "      <td>Y</td>\n",
       "      <td>32</td>\n",
       "      <td>...</td>\n",
       "      <td>1</td>\n",
       "      <td>0</td>\n",
       "      <td>0</td>\n",
       "      <td>2019 Program</td>\n",
       "      <td>0</td>\n",
       "      <td>1</td>\n",
       "      <td>Case Confirmed Closed</td>\n",
       "      <td>0</td>\n",
       "      <td>1</td>\n",
       "      <td>1</td>\n",
       "    </tr>\n",
       "    <tr>\n",
       "      <th>...</th>\n",
       "      <td>...</td>\n",
       "      <td>...</td>\n",
       "      <td>...</td>\n",
       "      <td>...</td>\n",
       "      <td>...</td>\n",
       "      <td>...</td>\n",
       "      <td>...</td>\n",
       "      <td>...</td>\n",
       "      <td>...</td>\n",
       "      <td>...</td>\n",
       "      <td>...</td>\n",
       "      <td>...</td>\n",
       "      <td>...</td>\n",
       "      <td>...</td>\n",
       "      <td>...</td>\n",
       "      <td>...</td>\n",
       "      <td>...</td>\n",
       "      <td>...</td>\n",
       "      <td>...</td>\n",
       "      <td>...</td>\n",
       "      <td>...</td>\n",
       "    </tr>\n",
       "    <tr>\n",
       "      <th>172</th>\n",
       "      <td>Ralph</td>\n",
       "      <td>Phillips</td>\n",
       "      <td>1999-09-29</td>\n",
       "      <td>1000220</td>\n",
       "      <td>2019-05-12</td>\n",
       "      <td>2019-09-01</td>\n",
       "      <td>Group Class</td>\n",
       "      <td>2019-08-20</td>\n",
       "      <td>Y</td>\n",
       "      <td>19</td>\n",
       "      <td>...</td>\n",
       "      <td>1</td>\n",
       "      <td>0</td>\n",
       "      <td>0</td>\n",
       "      <td>2019 Program</td>\n",
       "      <td>0</td>\n",
       "      <td>1</td>\n",
       "      <td>Case Confirmed Closed</td>\n",
       "      <td>0</td>\n",
       "      <td>1</td>\n",
       "      <td>1</td>\n",
       "    </tr>\n",
       "    <tr>\n",
       "      <th>173</th>\n",
       "      <td>Ralph</td>\n",
       "      <td>Phillips</td>\n",
       "      <td>1999-09-29</td>\n",
       "      <td>1000220</td>\n",
       "      <td>2019-05-12</td>\n",
       "      <td>2019-09-01</td>\n",
       "      <td>Individual Counseling</td>\n",
       "      <td>2019-10-26</td>\n",
       "      <td>Cancelled</td>\n",
       "      <td>19</td>\n",
       "      <td>...</td>\n",
       "      <td>0</td>\n",
       "      <td>0</td>\n",
       "      <td>1</td>\n",
       "      <td>2019 Program</td>\n",
       "      <td>0</td>\n",
       "      <td>1</td>\n",
       "      <td>Case Confirmed Closed</td>\n",
       "      <td>0</td>\n",
       "      <td>1</td>\n",
       "      <td>1</td>\n",
       "    </tr>\n",
       "    <tr>\n",
       "      <th>174</th>\n",
       "      <td>Ralph</td>\n",
       "      <td>Phillips</td>\n",
       "      <td>1999-09-29</td>\n",
       "      <td>1000220</td>\n",
       "      <td>2019-05-12</td>\n",
       "      <td>2019-09-01</td>\n",
       "      <td>Individual Counseling</td>\n",
       "      <td>2019-05-18</td>\n",
       "      <td>Y</td>\n",
       "      <td>19</td>\n",
       "      <td>...</td>\n",
       "      <td>1</td>\n",
       "      <td>0</td>\n",
       "      <td>0</td>\n",
       "      <td>2019 Program</td>\n",
       "      <td>0</td>\n",
       "      <td>1</td>\n",
       "      <td>Case Confirmed Closed</td>\n",
       "      <td>0</td>\n",
       "      <td>1</td>\n",
       "      <td>1</td>\n",
       "    </tr>\n",
       "    <tr>\n",
       "      <th>175</th>\n",
       "      <td>Ralph</td>\n",
       "      <td>Phillips</td>\n",
       "      <td>1999-09-29</td>\n",
       "      <td>1000220</td>\n",
       "      <td>2019-05-12</td>\n",
       "      <td>2019-09-01</td>\n",
       "      <td>Individual Counseling</td>\n",
       "      <td>2019-07-12</td>\n",
       "      <td>N</td>\n",
       "      <td>19</td>\n",
       "      <td>...</td>\n",
       "      <td>0</td>\n",
       "      <td>1</td>\n",
       "      <td>0</td>\n",
       "      <td>2019 Program</td>\n",
       "      <td>0</td>\n",
       "      <td>1</td>\n",
       "      <td>Case Confirmed Closed</td>\n",
       "      <td>0</td>\n",
       "      <td>1</td>\n",
       "      <td>1</td>\n",
       "    </tr>\n",
       "    <tr>\n",
       "      <th>176</th>\n",
       "      <td>Ralph</td>\n",
       "      <td>Phillips</td>\n",
       "      <td>1999-09-29</td>\n",
       "      <td>1000220</td>\n",
       "      <td>2019-05-12</td>\n",
       "      <td>2019-09-01</td>\n",
       "      <td>Individual Counseling</td>\n",
       "      <td>2019-08-18</td>\n",
       "      <td>N</td>\n",
       "      <td>19</td>\n",
       "      <td>...</td>\n",
       "      <td>0</td>\n",
       "      <td>1</td>\n",
       "      <td>0</td>\n",
       "      <td>2019 Program</td>\n",
       "      <td>0</td>\n",
       "      <td>1</td>\n",
       "      <td>Case Confirmed Closed</td>\n",
       "      <td>0</td>\n",
       "      <td>1</td>\n",
       "      <td>1</td>\n",
       "    </tr>\n",
       "  </tbody>\n",
       "</table>\n",
       "<p>177 rows × 26 columns</p>\n",
       "</div>"
      ],
      "text/plain": [
       "    First Name Last Name Date of Birth Person ID Case Opened Date  \\\n",
       "0       Tweety      Bird    1987-05-09   1000010       2019-05-09   \n",
       "1       Tweety      Bird    1987-05-09   1000010       2019-05-09   \n",
       "2       Tweety      Bird    1987-05-09   1000010       2019-05-09   \n",
       "3       Tweety      Bird    1987-05-09   1000010       2019-05-09   \n",
       "4       Tweety      Bird    1987-05-09   1000010       2019-05-09   \n",
       "..         ...       ...           ...       ...              ...   \n",
       "172      Ralph  Phillips    1999-09-29   1000220       2019-05-12   \n",
       "173      Ralph  Phillips    1999-09-29   1000220       2019-05-12   \n",
       "174      Ralph  Phillips    1999-09-29   1000220       2019-05-12   \n",
       "175      Ralph  Phillips    1999-09-29   1000220       2019-05-12   \n",
       "176      Ralph  Phillips    1999-09-29   1000220       2019-05-12   \n",
       "\n",
       "    Case Closed Date                Program Program Date Program Attendence  \\\n",
       "0         2019-10-16  Individual Counseling   2019-10-02          Cancelled   \n",
       "1         2019-10-16  Individual Counseling   2019-10-07          Cancelled   \n",
       "2         2019-10-16            Group Class   2019-09-13                  Y   \n",
       "3         2019-10-16            Group Class   2019-09-21                  Y   \n",
       "4         2019-10-16            Group Class   2019-09-29                  Y   \n",
       "..               ...                    ...          ...                ...   \n",
       "172       2019-09-01            Group Class   2019-08-20                  Y   \n",
       "173       2019-09-01  Individual Counseling   2019-10-26          Cancelled   \n",
       "174       2019-09-01  Individual Counseling   2019-05-18                  Y   \n",
       "175       2019-09-01  Individual Counseling   2019-07-12                  N   \n",
       "176       2019-09-01  Individual Counseling   2019-08-18                  N   \n",
       "\n",
       "     age  ... Program Attended  Program Not Attended  Program Cancelled  \\\n",
       "0     32  ...                0                     0                  1   \n",
       "1     32  ...                0                     0                  1   \n",
       "2     32  ...                1                     0                  0   \n",
       "3     32  ...                1                     0                  0   \n",
       "4     32  ...                1                     0                  0   \n",
       "..   ...  ...              ...                   ...                ...   \n",
       "172   19  ...                1                     0                  0   \n",
       "173   19  ...                0                     0                  1   \n",
       "174   19  ...                1                     0                  0   \n",
       "175   19  ...                0                     1                  0   \n",
       "176   19  ...                0                     1                  0   \n",
       "\n",
       "     program_year_group  2018 Program  2019 Program      case_status_group  \\\n",
       "0          2019 Program             0             1  Case Confirmed Closed   \n",
       "1          2019 Program             0             1  Case Confirmed Closed   \n",
       "2          2019 Program             0             1  Case Confirmed Closed   \n",
       "3          2019 Program             0             1  Case Confirmed Closed   \n",
       "4          2019 Program             0             1  Case Confirmed Closed   \n",
       "..                  ...           ...           ...                    ...   \n",
       "172        2019 Program             0             1  Case Confirmed Closed   \n",
       "173        2019 Program             0             1  Case Confirmed Closed   \n",
       "174        2019 Program             0             1  Case Confirmed Closed   \n",
       "175        2019 Program             0             1  Case Confirmed Closed   \n",
       "176        2019 Program             0             1  Case Confirmed Closed   \n",
       "\n",
       "     Case Not Confirmed Closed  Case Confirmed Closed count  \n",
       "0                            0                      1     1  \n",
       "1                            0                      1     1  \n",
       "2                            0                      1     1  \n",
       "3                            0                      1     1  \n",
       "4                            0                      1     1  \n",
       "..                         ...                    ...   ...  \n",
       "172                          0                      1     1  \n",
       "173                          0                      1     1  \n",
       "174                          0                      1     1  \n",
       "175                          0                      1     1  \n",
       "176                          0                      1     1  \n",
       "\n",
       "[177 rows x 26 columns]"
      ]
     },
     "execution_count": 5,
     "metadata": {},
     "output_type": "execute_result"
    }
   ],
   "source": [
    "# gain insight into 'data'\n",
    "data"
   ]
  },
  {
   "cell_type": "code",
   "execution_count": 6,
   "id": "bf68934b",
   "metadata": {},
   "outputs": [
    {
     "name": "stdout",
     "output_type": "stream",
     "text": [
      "Index(['First Name', 'Last Name', 'Date of Birth', 'Person ID',\n",
      "       'Case Opened Date', 'Case Closed Date', 'Program', 'Program Date',\n",
      "       'Program Attendence', 'age', 'age_group', 'Unidentified Age',\n",
      "       'Younger than 25 Years', '25 Years or Older', 'Individual Counseling',\n",
      "       'Group Class', 'Program Attended', 'Program Not Attended',\n",
      "       'Program Cancelled', 'program_year_group', '2018 Program',\n",
      "       '2019 Program', 'case_status_group', 'Case Not Confirmed Closed',\n",
      "       'Case Confirmed Closed', 'count'],\n",
      "      dtype='object')\n"
     ]
    }
   ],
   "source": [
    "# get 'data' column names\n",
    "print(data.columns)"
   ]
  },
  {
   "cell_type": "markdown",
   "id": "1980bdc5",
   "metadata": {},
   "source": [
    "### 1. Addressing Posed Questions"
   ]
  },
  {
   "cell_type": "markdown",
   "id": "bd11f6bb",
   "metadata": {},
   "source": [
    "Based on the data, please tell us the answers to the posed questions, grouped by people younger than 25 and those 25 and older (at the time their case opened):"
   ]
  },
  {
   "cell_type": "markdown",
   "id": "ae04903b",
   "metadata": {},
   "source": [
    "#### 1.1 Question 1"
   ]
  },
  {
   "cell_type": "markdown",
   "id": "fce6bb9e",
   "metadata": {},
   "source": [
    "<b>1.\tHow many individuals attended at least one individual counseling session in 2019?</b>"
   ]
  },
  {
   "cell_type": "code",
   "execution_count": 7,
   "id": "7e9f6ab8",
   "metadata": {},
   "outputs": [
    {
     "data": {
      "text/html": [
       "<div>\n",
       "<style scoped>\n",
       "    .dataframe tbody tr th:only-of-type {\n",
       "        vertical-align: middle;\n",
       "    }\n",
       "\n",
       "    .dataframe tbody tr th {\n",
       "        vertical-align: top;\n",
       "    }\n",
       "\n",
       "    .dataframe thead th {\n",
       "        text-align: right;\n",
       "    }\n",
       "</style>\n",
       "<table border=\"1\" class=\"dataframe\">\n",
       "  <thead>\n",
       "    <tr style=\"text-align: right;\">\n",
       "      <th></th>\n",
       "      <th>age_group</th>\n",
       "      <th>count</th>\n",
       "    </tr>\n",
       "  </thead>\n",
       "  <tbody>\n",
       "    <tr>\n",
       "      <th>0</th>\n",
       "      <td>25 Years or Older</td>\n",
       "      <td>3</td>\n",
       "    </tr>\n",
       "    <tr>\n",
       "      <th>1</th>\n",
       "      <td>Unidentified Age</td>\n",
       "      <td>1</td>\n",
       "    </tr>\n",
       "    <tr>\n",
       "      <th>2</th>\n",
       "      <td>Younger than 25 Years</td>\n",
       "      <td>9</td>\n",
       "    </tr>\n",
       "  </tbody>\n",
       "</table>\n",
       "</div>"
      ],
      "text/plain": [
       "               age_group  count\n",
       "0      25 Years or Older      3\n",
       "1       Unidentified Age      1\n",
       "2  Younger than 25 Years      9"
      ]
     },
     "execution_count": 7,
     "metadata": {},
     "output_type": "execute_result"
    }
   ],
   "source": [
    "# check conditions concerning Question 1 from the prompt\n",
    "condition_1 = (data['Individual Counseling']==1)&(data['Program Attended']==1)&(data['2019 Program']==1)\n",
    "\n",
    "# create 'q_1' which outlines Question 1 results\n",
    "q_1 = data[condition_1].groupby(['Person ID','age_group']).sum()[['count']].reset_index()\n",
    "q_1['count'] = 1\n",
    "q_1 = q_1.groupby('age_group').sum()[['count']].reset_index()\n",
    "q_1"
   ]
  },
  {
   "cell_type": "code",
   "execution_count": 8,
   "id": "57a6f911",
   "metadata": {},
   "outputs": [
    {
     "data": {
      "text/plain": [
       "<AxesSubplot:xlabel='age_group'>"
      ]
     },
     "execution_count": 8,
     "metadata": {},
     "output_type": "execute_result"
    },
    {
     "data": {
      "image/png": "[encoded data removed]",
      "text/plain": [
       "<Figure size 432x288 with 1 Axes>"
      ]
     },
     "metadata": {
      "needs_background": "light"
     },
     "output_type": "display_data"
    }
   ],
   "source": [
    "# visualize results to Question 1\n",
    "q_1.plot.bar(x='age_group')"
   ]
  },
  {
   "cell_type": "markdown",
   "id": "1df1eef1",
   "metadata": {},
   "source": [
    "<b>Question 1 ANSWER</b>\n",
    "* 3 clients aged 25 years or older at the time in which their cases were opened attended at least one Individual Counseling session in 2019.\n",
    "* Similarly, 9 clients who were younger than 25 years old when their cases opened attended at least one Individual Counseling session in 2019.\n",
    "* Finally, at least one Individual Counseling Session was also attended in 2019 by 1 client without an identified age."
   ]
  },
  {
   "cell_type": "markdown",
   "id": "1e67e007",
   "metadata": {},
   "source": [
    "#### 1.2 Question 2"
   ]
  },
  {
   "cell_type": "markdown",
   "id": "048966ea",
   "metadata": {},
   "source": [
    "<b>2.\tHow many individuals attended at least one group counseling session in 2019?</b>"
   ]
  },
  {
   "cell_type": "code",
   "execution_count": 9,
   "id": "9ca599c7",
   "metadata": {},
   "outputs": [
    {
     "data": {
      "text/html": [
       "<div>\n",
       "<style scoped>\n",
       "    .dataframe tbody tr th:only-of-type {\n",
       "        vertical-align: middle;\n",
       "    }\n",
       "\n",
       "    .dataframe tbody tr th {\n",
       "        vertical-align: top;\n",
       "    }\n",
       "\n",
       "    .dataframe thead th {\n",
       "        text-align: right;\n",
       "    }\n",
       "</style>\n",
       "<table border=\"1\" class=\"dataframe\">\n",
       "  <thead>\n",
       "    <tr style=\"text-align: right;\">\n",
       "      <th></th>\n",
       "      <th>age_group</th>\n",
       "      <th>count</th>\n",
       "    </tr>\n",
       "  </thead>\n",
       "  <tbody>\n",
       "    <tr>\n",
       "      <th>0</th>\n",
       "      <td>25 Years or Older</td>\n",
       "      <td>8</td>\n",
       "    </tr>\n",
       "    <tr>\n",
       "      <th>1</th>\n",
       "      <td>Younger than 25 Years</td>\n",
       "      <td>3</td>\n",
       "    </tr>\n",
       "  </tbody>\n",
       "</table>\n",
       "</div>"
      ],
      "text/plain": [
       "               age_group  count\n",
       "0      25 Years or Older      8\n",
       "1  Younger than 25 Years      3"
      ]
     },
     "execution_count": 9,
     "metadata": {},
     "output_type": "execute_result"
    }
   ],
   "source": [
    "# check conditions concerning Question 2 from the prompt\n",
    "condition_2 = (data['Group Class']==1)&(data['Program Attended']==1)&(data['2019 Program']==1)\n",
    "\n",
    "# create 'q_2' which outlines Question 2 results\n",
    "q_2 = data[condition_2].groupby(['Person ID','age_group']).sum()[['count']].reset_index()\n",
    "q_2['count'] = 1\n",
    "q_2 = q_2.groupby('age_group').sum()[['count']].reset_index()\n",
    "q_2"
   ]
  },
  {
   "cell_type": "code",
   "execution_count": 10,
   "id": "a06d89ea",
   "metadata": {},
   "outputs": [
    {
     "data": {
      "text/plain": [
       "<AxesSubplot:xlabel='age_group'>"
      ]
     },
     "execution_count": 10,
     "metadata": {},
     "output_type": "execute_result"
    },
    {
     "data": {
      "image/png": "[encoded data removed]",
      "text/plain": [
       "<Figure size 432x288 with 1 Axes>"
      ]
     },
     "metadata": {
      "needs_background": "light"
     },
     "output_type": "display_data"
    }
   ],
   "source": [
    "# visualize results to Question 2\n",
    "q_2.plot.bar(x='age_group')"
   ]
  },
  {
   "cell_type": "markdown",
   "id": "5d717ef8",
   "metadata": {},
   "source": [
    "<b>Question 2 ANSWER</b>\n",
    "* 8 clients aged 25 years or older at the time in which their cases were opened attended at least one Group Counseling session in 2019.\n",
    "* Similarly, 3 clients who were younger than 25 years old when their cases opened attended at least one Group Counseling session in 2019.\n",
    "* Finally, 0 clients with an unidentified age attended any Group Counseling sessions in 2019."
   ]
  },
  {
   "cell_type": "markdown",
   "id": "558026b7",
   "metadata": {},
   "source": [
    "#### 1.3 Question 3"
   ]
  },
  {
   "cell_type": "markdown",
   "id": "93f64de9",
   "metadata": {},
   "source": [
    "<b>3.\tOf the individuals who attended at least one individual counseling session, what is the average number of individual counseling sessions attended by year?</b>"
   ]
  },
  {
   "cell_type": "code",
   "execution_count": 11,
   "id": "6cbf7815",
   "metadata": {},
   "outputs": [
    {
     "data": {
      "text/html": [
       "<div>\n",
       "<style scoped>\n",
       "    .dataframe tbody tr th:only-of-type {\n",
       "        vertical-align: middle;\n",
       "    }\n",
       "\n",
       "    .dataframe tbody tr th {\n",
       "        vertical-align: top;\n",
       "    }\n",
       "\n",
       "    .dataframe thead th {\n",
       "        text-align: right;\n",
       "    }\n",
       "</style>\n",
       "<table border=\"1\" class=\"dataframe\">\n",
       "  <thead>\n",
       "    <tr style=\"text-align: right;\">\n",
       "      <th></th>\n",
       "      <th>age_group</th>\n",
       "      <th>program_year_group</th>\n",
       "      <th>average</th>\n",
       "    </tr>\n",
       "  </thead>\n",
       "  <tbody>\n",
       "    <tr>\n",
       "      <th>0</th>\n",
       "      <td>25 Years or Older</td>\n",
       "      <td>2018 Program</td>\n",
       "      <td>3.000000</td>\n",
       "    </tr>\n",
       "    <tr>\n",
       "      <th>1</th>\n",
       "      <td>25 Years or Older</td>\n",
       "      <td>2019 Program</td>\n",
       "      <td>6.666667</td>\n",
       "    </tr>\n",
       "    <tr>\n",
       "      <th>2</th>\n",
       "      <td>Unidentified Age</td>\n",
       "      <td>2019 Program</td>\n",
       "      <td>3.000000</td>\n",
       "    </tr>\n",
       "    <tr>\n",
       "      <th>3</th>\n",
       "      <td>Younger than 25 Years</td>\n",
       "      <td>2018 Program</td>\n",
       "      <td>6.500000</td>\n",
       "    </tr>\n",
       "    <tr>\n",
       "      <th>4</th>\n",
       "      <td>Younger than 25 Years</td>\n",
       "      <td>2019 Program</td>\n",
       "      <td>3.333333</td>\n",
       "    </tr>\n",
       "  </tbody>\n",
       "</table>\n",
       "</div>"
      ],
      "text/plain": [
       "               age_group program_year_group   average\n",
       "0      25 Years or Older       2018 Program  3.000000\n",
       "1      25 Years or Older       2019 Program  6.666667\n",
       "2       Unidentified Age       2019 Program  3.000000\n",
       "3  Younger than 25 Years       2018 Program  6.500000\n",
       "4  Younger than 25 Years       2019 Program  3.333333"
      ]
     },
     "execution_count": 11,
     "metadata": {},
     "output_type": "execute_result"
    }
   ],
   "source": [
    "# check conditions concerning Question 3 from the prompt\n",
    "condition_3 = (data['Individual Counseling']==1)&(data['Program Attended']==1)\n",
    "\n",
    "# create 'q_3' which outlines Question 3 results\n",
    "q_3 = data[condition_3].groupby(['Person ID', 'age_group', 'program_year_group']).sum()[['count']].reset_index()\n",
    "\n",
    "q_3 = q_3.groupby(['age_group', 'program_year_group']).mean().reset_index()\n",
    "q_3 = q_3.rename(columns={'count':'average'})\n",
    "q_3"
   ]
  },
  {
   "cell_type": "code",
   "execution_count": 12,
   "id": "9ad4454e",
   "metadata": {},
   "outputs": [
    {
     "data": {
      "text/plain": [
       "<AxesSubplot:xlabel='program_year_group', ylabel='average'>"
      ]
     },
     "execution_count": 12,
     "metadata": {},
     "output_type": "execute_result"
    },
    {
     "data": {
      "image/png": "[encoded data removed]",
      "text/plain": [
       "<Figure size 432x288 with 1 Axes>"
      ]
     },
     "metadata": {
      "needs_background": "light"
     },
     "output_type": "display_data"
    }
   ],
   "source": [
    "# visualize results to Question 3\n",
    "sns.barplot(data=q_3, x='program_year_group', y=\"average\", hue=\"age_group\")"
   ]
  },
  {
   "cell_type": "markdown",
   "id": "9fd170eb",
   "metadata": {},
   "source": [
    "<b> Question 3 ANSWER</b>\n",
    "\n",
    "2018\n",
    "* In 2018, for clients who were 25 years or older when their cases were opened, the average number of Individual Counseling sessions attended was 3 sessions.\n",
    "* In 2018, for clients who were younger than 25 years old when their cases were opened, the average number of Individual Counseling sessions attended was 6.5 sessions.\n",
    "\n",
    "2019\n",
    "* In 2019, for clients who were 25 years or older when their cases were opened, the average number of Individual Counseling sessions attended was roughly 6.67 sessions.\n",
    "* Similarly, in 2019, for clients who were younger than 25 years old when their cases were opened, the average number of Individual Counseling sessions attended was roughly 3.33 sessions.\n",
    "* Finally, in 2019, clients with an unidentified age at the time in which their cases were opened attended, on average, 3 Individual Counseling sessions."
   ]
  },
  {
   "cell_type": "markdown",
   "id": "2e8b83f5",
   "metadata": {},
   "source": [
    "#### 1.4 Question 4"
   ]
  },
  {
   "cell_type": "markdown",
   "id": "65d25a03",
   "metadata": {},
   "source": [
    "<b>4.\tHow has the average individual counseling sessions attended changed between 2018 and 2019?</b>"
   ]
  },
  {
   "cell_type": "code",
   "execution_count": 13,
   "id": "f42aecbf",
   "metadata": {},
   "outputs": [
    {
     "name": "stdout",
     "output_type": "stream",
     "text": [
      "               age_group program_year_group   average  pct_change\n",
      "3  Younger than 25 Years       2018 Program  6.500000         NaN\n",
      "4  Younger than 25 Years       2019 Program  3.333333  -48.717949\n",
      "           age_group program_year_group   average  pct_change\n",
      "0  25 Years or Older       2018 Program  3.000000         NaN\n",
      "1  25 Years or Older       2019 Program  6.666667  122.222222\n"
     ]
    },
    {
     "name": "stderr",
     "output_type": "stream",
     "text": [
      "C:\\Users\\Carol\\Anaconda3\\lib\\site-packages\\ipykernel_launcher.py:8: SettingWithCopyWarning: \n",
      "A value is trying to be set on a copy of a slice from a DataFrame.\n",
      "Try using .loc[row_indexer,col_indexer] = value instead\n",
      "\n",
      "See the caveats in the documentation: https://pandas.pydata.org/pandas-docs/stable/user_guide/indexing.html#returning-a-view-versus-a-copy\n",
      "  \n",
      "C:\\Users\\Carol\\Anaconda3\\lib\\site-packages\\ipykernel_launcher.py:13: SettingWithCopyWarning: \n",
      "A value is trying to be set on a copy of a slice from a DataFrame.\n",
      "Try using .loc[row_indexer,col_indexer] = value instead\n",
      "\n",
      "See the caveats in the documentation: https://pandas.pydata.org/pandas-docs/stable/user_guide/indexing.html#returning-a-view-versus-a-copy\n",
      "  del sys.path[0]\n"
     ]
    }
   ],
   "source": [
    "### Question 3 and Question 4 from the prompt have the same conditions, thus  create copy of 'q_3' and call it 'q_4'\n",
    "q_4 = q_3.copy()\n",
    "\n",
    "# calculate percent change in Individual Counselng session Attendence from 2018 to 2019 for each age group\n",
    "\n",
    "# younger than 25\n",
    "q_4_younger = q_4[q_4['age_group']=='Younger than 25 Years']\n",
    "q_4_younger['pct_change'] = q_4_younger.average.pct_change()*100\n",
    "print(q_4_younger)\n",
    "\n",
    "# 25 or older\n",
    "q_4_older = q_4[q_4['age_group']=='25 Years or Older']\n",
    "q_4_older['pct_change'] = q_4_older.average.pct_change()*100\n",
    "print(q_4_older)\n",
    "\n",
    "## NOTE: Unidentified Age group only has 2019 attendence for Individual Counseling sessions, thus no percent change can be calculated for this age group"
   ]
  },
  {
   "cell_type": "markdown",
   "id": "d81f7ee0",
   "metadata": {},
   "source": [
    "<b>Question 4 ANSWER</b>\n",
    "\n",
    "Clients 25 Years or Older\n",
    "* The percent change in Individual Counseling session attendance from 2018 to 2019 for folks aged 25 years or older was roughly 122%  (i.e., [(6.67 - 3) / 3] * 100  = 122.3).\n",
    "\n",
    "Clients Younger than 25 years\n",
    "* The percent change in Individual Counseling session attendance from 2018 to 2019 for folks aged younger than 25 years old was roughly -49%  (i.e., [(3.33 - 6.5) / 6.5] * 100  = -48.77).\n",
    "\n",
    "Clients with an Unidentified Age\n",
    "* Seeing as clients without an unidentified age did not attend any Individual Counseling sessions in 2018, a percent change for this age group cannot be calculated."
   ]
  },
  {
   "cell_type": "markdown",
   "id": "9000c5b2",
   "metadata": {},
   "source": [
    "#### 1.5 Question 5"
   ]
  },
  {
   "cell_type": "markdown",
   "id": "905e4371",
   "metadata": {},
   "source": [
    "<b>5.\tAmong closed cases, which individual had the highest group counseling session attendance rate, excluding cancelled sessions?</b>"
   ]
  },
  {
   "cell_type": "code",
   "execution_count": 14,
   "id": "046896ff",
   "metadata": {},
   "outputs": [
    {
     "data": {
      "text/html": [
       "<div>\n",
       "<style scoped>\n",
       "    .dataframe tbody tr th:only-of-type {\n",
       "        vertical-align: middle;\n",
       "    }\n",
       "\n",
       "    .dataframe tbody tr th {\n",
       "        vertical-align: top;\n",
       "    }\n",
       "\n",
       "    .dataframe thead th {\n",
       "        text-align: right;\n",
       "    }\n",
       "</style>\n",
       "<table border=\"1\" class=\"dataframe\">\n",
       "  <thead>\n",
       "    <tr style=\"text-align: right;\">\n",
       "      <th></th>\n",
       "      <th>Person ID</th>\n",
       "      <th>attendence_count</th>\n",
       "      <th>pot_attendence_count</th>\n",
       "      <th>attendence_rate</th>\n",
       "    </tr>\n",
       "  </thead>\n",
       "  <tbody>\n",
       "    <tr>\n",
       "      <th>2</th>\n",
       "      <td>1000040_00</td>\n",
       "      <td>2</td>\n",
       "      <td>2</td>\n",
       "      <td>100.000000</td>\n",
       "    </tr>\n",
       "    <tr>\n",
       "      <th>3</th>\n",
       "      <td>1000050</td>\n",
       "      <td>2</td>\n",
       "      <td>2</td>\n",
       "      <td>100.000000</td>\n",
       "    </tr>\n",
       "    <tr>\n",
       "      <th>1</th>\n",
       "      <td>1000020</td>\n",
       "      <td>8</td>\n",
       "      <td>9</td>\n",
       "      <td>88.888889</td>\n",
       "    </tr>\n",
       "    <tr>\n",
       "      <th>8</th>\n",
       "      <td>1000210</td>\n",
       "      <td>7</td>\n",
       "      <td>8</td>\n",
       "      <td>87.500000</td>\n",
       "    </tr>\n",
       "    <tr>\n",
       "      <th>9</th>\n",
       "      <td>1000220</td>\n",
       "      <td>5</td>\n",
       "      <td>6</td>\n",
       "      <td>83.333333</td>\n",
       "    </tr>\n",
       "    <tr>\n",
       "      <th>0</th>\n",
       "      <td>1000010</td>\n",
       "      <td>4</td>\n",
       "      <td>5</td>\n",
       "      <td>80.000000</td>\n",
       "    </tr>\n",
       "    <tr>\n",
       "      <th>5</th>\n",
       "      <td>1000120</td>\n",
       "      <td>3</td>\n",
       "      <td>4</td>\n",
       "      <td>75.000000</td>\n",
       "    </tr>\n",
       "    <tr>\n",
       "      <th>4</th>\n",
       "      <td>1000100</td>\n",
       "      <td>3</td>\n",
       "      <td>5</td>\n",
       "      <td>60.000000</td>\n",
       "    </tr>\n",
       "    <tr>\n",
       "      <th>6</th>\n",
       "      <td>1000170</td>\n",
       "      <td>1</td>\n",
       "      <td>2</td>\n",
       "      <td>50.000000</td>\n",
       "    </tr>\n",
       "    <tr>\n",
       "      <th>7</th>\n",
       "      <td>1000200</td>\n",
       "      <td>1</td>\n",
       "      <td>2</td>\n",
       "      <td>50.000000</td>\n",
       "    </tr>\n",
       "  </tbody>\n",
       "</table>\n",
       "</div>"
      ],
      "text/plain": [
       "    Person ID  attendence_count  pot_attendence_count  attendence_rate\n",
       "2  1000040_00                 2                     2       100.000000\n",
       "3     1000050                 2                     2       100.000000\n",
       "1     1000020                 8                     9        88.888889\n",
       "8     1000210                 7                     8        87.500000\n",
       "9     1000220                 5                     6        83.333333\n",
       "0     1000010                 4                     5        80.000000\n",
       "5     1000120                 3                     4        75.000000\n",
       "4     1000100                 3                     5        60.000000\n",
       "6     1000170                 1                     2        50.000000\n",
       "7     1000200                 1                     2        50.000000"
      ]
     },
     "execution_count": 14,
     "metadata": {},
     "output_type": "execute_result"
    }
   ],
   "source": [
    "# check conditions concerning Question 5 from the prompt\n",
    "condition_5 = (data['Case Confirmed Closed']==1)&(data['Program Attended']==1)&(data['Group Class']==1)\n",
    "\n",
    "pot_sessions = data[(data['Case Confirmed Closed']==1)&(data['Program Cancelled']==0)&(data['Group Class']==1)].groupby(\"Person ID\").sum()[[\"count\"]].reset_index()\n",
    "pot_sessions = pot_sessions.rename(columns={\"count\": \"pot_attendence_count\"})\n",
    "\n",
    "q_5 = data[condition_5].groupby(\"Person ID\").sum()[[\"count\"]].reset_index()\n",
    "q_5 = q_5.rename(columns={\"count\": \"attendence_count\"})\n",
    "\n",
    "# merge 'q_5' and 'pot_sessions'\n",
    "q_5_m = pd.merge(q_5, pot_sessions, how='left')\n",
    "q_5_m['attendence_rate'] = q_5_m['attendence_count']/q_5_m['pot_attendence_count']*100\n",
    "\n",
    "q_5_m.sort_values('attendence_rate', ascending=False)"
   ]
  },
  {
   "cell_type": "markdown",
   "id": "cd3cf20d",
   "metadata": {},
   "source": [
    "<b>Question 5 ANSWER</b>\n",
    "\n",
    "Among closed cases, clients <b>\"Road Runner\"</b> (Person ID: 1000040_00 (first case); 1000040_01 (second case)) and <b>\"Wiley Coyote\"</b> (Person ID 1000050) had the highest attendance rates for Group Counseling sessions (i.e., both \"Road Runner\" and \"Wiley Coyote\" had attendance rates of 100% for Group Counseling sessions).\n",
    "\n",
    "Notably, however, client \"Road Runner\" differs from other clients, because they are associated with more than one case in the dataset.  It is important to note that their first case (concerned with Person ID: 1000040_00) was closed and is associated with a 100% Group Counseling session attendance rate.  However, their second case (concerned with Person ID: 1000040_01), while also closed, has an associated Group Counseling attendance rate of 0%.  While there was only a single Group Counseling session that \"Road Runner\" could have attended from when their second case was open and closed, they still did end up missing this session, hence contributing to a 0% attendance rate for this case."
   ]
  },
  {
   "cell_type": "markdown",
   "id": "6f8325c5",
   "metadata": {},
   "source": [
    "#### 1.6 Question 6"
   ]
  },
  {
   "cell_type": "markdown",
   "id": "4b52badf",
   "metadata": {},
   "source": [
    "<b>6.\tAmong closed cases, identify the individual(s) that had an individual counseling session attendance rate (excluding cancelled sessions) in the bottom quartile.</b>"
   ]
  },
  {
   "cell_type": "code",
   "execution_count": 15,
   "id": "2610d4a4",
   "metadata": {},
   "outputs": [
    {
     "data": {
      "text/plain": [
       "<bound method DataFrame.quantile of      Person ID  attendence_count  pot_attendence_count  attendence_rate\n",
       "0      1000030                 3                     3       100.000000\n",
       "1   1000040_00                 5                     5       100.000000\n",
       "2      1000050                 1                     4        25.000000\n",
       "3      1000070                 3                     3       100.000000\n",
       "4      1000090                 2                     5        40.000000\n",
       "5      1000130                 4                     5        80.000000\n",
       "6      1000160                 8                    13        61.538462\n",
       "7      1000170                 4                     5        80.000000\n",
       "8      1000180                 4                     7        57.142857\n",
       "9      1000190                 4                     4       100.000000\n",
       "10     1000200                10                    11        90.909091\n",
       "11     1000210                 2                     2       100.000000\n",
       "12     1000220                 1                     3        33.333333>"
      ]
     },
     "execution_count": 15,
     "metadata": {},
     "output_type": "execute_result"
    }
   ],
   "source": [
    "# check conditions concerning Question 6 from the prompt\n",
    "condition_6 = (data['Case Confirmed Closed']==1)&(data['Program Attended']==1)&(data['Individual Counseling']==1)\n",
    "\n",
    "pot_sessions_6 = data[(data['Case Confirmed Closed']==1)&(data['Program Cancelled']==0)&(data['Individual Counseling']==1)].groupby(\"Person ID\").sum()[[\"count\"]].reset_index()\n",
    "pot_sessions_6 = pot_sessions_6.rename(columns={\"count\": \"pot_attendence_count\"})\n",
    "\n",
    "q_6 = data[condition_6].groupby(\"Person ID\").sum()[[\"count\"]].reset_index()\n",
    "q_6 = q_6.rename(columns={\"count\": \"attendence_count\"})\n",
    "\n",
    "# merge 'q_6' with 'pot_sessions'\n",
    "q_6_m = pd.merge(q_6, pot_sessions_6, how='left')\n",
    "q_6_m['attendence_rate'] = q_6_m['attendence_count']/q_6_m['pot_attendence_count']*100\n",
    "\n",
    "q_6_m.quantile"
   ]
  },
  {
   "cell_type": "code",
   "execution_count": 16,
   "id": "58c283ec",
   "metadata": {},
   "outputs": [
    {
     "data": {
      "text/html": [
       "<div>\n",
       "<style scoped>\n",
       "    .dataframe tbody tr th:only-of-type {\n",
       "        vertical-align: middle;\n",
       "    }\n",
       "\n",
       "    .dataframe tbody tr th {\n",
       "        vertical-align: top;\n",
       "    }\n",
       "\n",
       "    .dataframe thead th {\n",
       "        text-align: right;\n",
       "    }\n",
       "</style>\n",
       "<table border=\"1\" class=\"dataframe\">\n",
       "  <thead>\n",
       "    <tr style=\"text-align: right;\">\n",
       "      <th></th>\n",
       "      <th>Person ID</th>\n",
       "      <th>attendence_count</th>\n",
       "      <th>pot_attendence_count</th>\n",
       "      <th>attendence_rate</th>\n",
       "    </tr>\n",
       "  </thead>\n",
       "  <tbody>\n",
       "    <tr>\n",
       "      <th>2</th>\n",
       "      <td>1000050</td>\n",
       "      <td>1</td>\n",
       "      <td>4</td>\n",
       "      <td>25.000000</td>\n",
       "    </tr>\n",
       "    <tr>\n",
       "      <th>4</th>\n",
       "      <td>1000090</td>\n",
       "      <td>2</td>\n",
       "      <td>5</td>\n",
       "      <td>40.000000</td>\n",
       "    </tr>\n",
       "    <tr>\n",
       "      <th>8</th>\n",
       "      <td>1000180</td>\n",
       "      <td>4</td>\n",
       "      <td>7</td>\n",
       "      <td>57.142857</td>\n",
       "    </tr>\n",
       "    <tr>\n",
       "      <th>12</th>\n",
       "      <td>1000220</td>\n",
       "      <td>1</td>\n",
       "      <td>3</td>\n",
       "      <td>33.333333</td>\n",
       "    </tr>\n",
       "  </tbody>\n",
       "</table>\n",
       "</div>"
      ],
      "text/plain": [
       "   Person ID  attendence_count  pot_attendence_count  attendence_rate\n",
       "2    1000050                 1                     4        25.000000\n",
       "4    1000090                 2                     5        40.000000\n",
       "8    1000180                 4                     7        57.142857\n",
       "12   1000220                 1                     3        33.333333"
      ]
     },
     "execution_count": 16,
     "metadata": {},
     "output_type": "execute_result"
    }
   ],
   "source": [
    "# identify clients meeting Question 6 conditions in bottom quartile\n",
    "bottom_q = q_6_m.attendence_rate.quantile(0.25)\n",
    "q_6_m_bottom_q = q_6_m[q_6_m['attendence_rate']<=bottom_q]\n",
    "q_6_m_bottom_q"
   ]
  },
  {
   "cell_type": "markdown",
   "id": "aababc7a",
   "metadata": {},
   "source": [
    "<b> Question 6 ANSWER</b>\n",
    "\n",
    "Among closed cases, clients that had an Individual Counseling Session Attendence Rate that was in the bottom quartile include:\n",
    "\n",
    "* <b>\"Wiley Coyote\"</b> (Person ID: 1000050) had an Individual Counseling Session Attendance Rate of 25%.\n",
    "* <b>\"Roger Rabbit\"</b> (Person ID: 1000090)\thad an Individual Counseling Session Attendance Rate of 40%.\n",
    "* <b>\"Charlie Dog\"</b> (Person ID: 1000180) had an Individual Counseling Session Attendance Rate of roughly 57%.\n",
    "* <b>\"Ralph Phillips\"</b> (Person ID: 1000220) \thad an Individual Counseling Session Attendance Rate of roughly 33%."
   ]
  },
  {
   "cell_type": "markdown",
   "id": "d7ab6956",
   "metadata": {},
   "source": [
    "#### 1.7 Question 7"
   ]
  },
  {
   "cell_type": "markdown",
   "id": "cc90217a",
   "metadata": {},
   "source": [
    "<b>7.\tExplain how you would approach summarizing or visually presenting the above findings to program staff.</b>"
   ]
  },
  {
   "cell_type": "markdown",
   "id": "7aac8f17",
   "metadata": {},
   "source": [
    "<b> Question 7 ANSWER</b>\n",
    "\n",
    "In order to summarize and visually present the above findings to program staff, I would upload the exported data below from this analysis to an Observable Notebook.  Then, with JavaScript, I would prepare data visualization elements (e.g., tables and graphs) which would help communicate the outlined findings per posed question.  In order to help program staff understand and interpret these visualization elements, I would also provide clear and concise text describing the data visualization elements for each posed question.\n",
    "\n",
    "Once answers to all questions were clearly outlined, I would provide an overall text summary which would summarize all of the findings in all of the posed questions in a simple paragraph.\n",
    "\n",
    "Given this summary of findings, I would also provide some interpretation as to what these findings may mean for programming.  I would also put forth recommendations for current programming activities and potential future programming activities given the research findings.  In addition, the findings to this research would also allow me to put forth recommendations for future program-supporting research.\n",
    "\n",
    "Ultimately, this document is a lengthy rough draft of what I would provide to program staff.  "
   ]
  },
  {
   "cell_type": "markdown",
   "id": "624883b3",
   "metadata": {},
   "source": [
    "### 2. Preparing Data for Export"
   ]
  },
  {
   "cell_type": "code",
   "execution_count": 17,
   "id": "2ead3029",
   "metadata": {},
   "outputs": [],
   "source": [
    "# write 'q_1' to a csv\n",
    "q_1.to_csv('data/processed/q_1.csv', encoding = 'utf-8', index = False)\n",
    "\n",
    "# write 'q_2' to a csv\n",
    "q_2.to_csv('data/processed/q_2.csv', encoding = 'utf-8', index = False)\n",
    "\n",
    "# write 'q_3' to a csv\n",
    "q_3.to_csv('data/processed/q_3.csv', encoding = 'utf-8', index = False)\n",
    "\n",
    "# write 'q_4_younger' to a csv\n",
    "q_4_younger.to_csv('data/processed/q_4_younger.csv', encoding = 'utf-8', index = False)\n",
    "\n",
    "# write 'q_4_older' to a csv\n",
    "q_4_older.to_csv('data/processed/q_4_older.csv', encoding = 'utf-8', index = False)\n",
    "\n",
    "# write 'q_5_m' to a csv\n",
    "q_5_m.to_csv('data/processed/q_5_m.csv', encoding = 'utf-8', index = False)\n",
    "\n",
    "# write 'q_6_m' to a csv\n",
    "q_6_m.to_csv('data/processed/q_6_m.csv', encoding = 'utf-8', index = False)\n",
    "\n",
    "# write 'q_6_m_bottom_q' to a csv\n",
    "q_6_m_bottom_q.to_csv('data/processed/q_6_m_bottom_q.csv', encoding = 'utf-8', index = False)"
   ]
  }
 ],
 "metadata": {
  "kernelspec": {
   "display_name": "Python 3 (ipykernel)",
   "language": "python",
   "name": "python3"
  },
  "language_info": {
   "codemirror_mode": {
    "name": "ipython",
    "version": 3
   },
   "file_extension": ".py",
   "mimetype": "text/x-python",
   "name": "python",
   "nbconvert_exporter": "python",
   "pygments_lexer": "ipython3",
   "version": "3.7.3"
  }
 },
 "nbformat": 4,
 "nbformat_minor": 5
}
