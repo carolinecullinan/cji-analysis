{
 "cells": [
  {
   "cell_type": "markdown",
   "id": "d8137818",
   "metadata": {},
   "source": [
    "## Center for Justice Innovation: Research and Data Associate Data Task: 1 CLEANING"
   ]
  },
  {
   "cell_type": "markdown",
   "id": "969baa30",
   "metadata": {},
   "source": [
    "#### Prompt\n",
    "\n",
    "<b>Background</b>\n",
    "\n",
    "The attached datasets are for a theoretical alternative sentencing program for individuals 15 and older who were court-mandated either to group sessions or individual counseling services (or both) with a nonprofit agency.\n",
    "\n",
    "<b>Instructions</b>\n",
    "\n",
    "Based on the data, please tell us, grouped by people younger than 25 and those 25 and older (<b>at the time their case opened</b>):\n",
    "1.\tHow many individuals attended at least one individual counseling session in 2019?\n",
    "2.\tHow many individuals attended at least one group counseling session in 2019?\n",
    "3.\tOf the individuals who attended at least one individual counseling session, what is the average number of individual counseling sessions attended by year?\n",
    "4.\tHow has the average individual counseling sessions attended changed between 2018 and 2019?\n",
    "5.\tAmong closed cases, which individual had the highest group counseling session attendance rate, excluding cancelled sessions?\n",
    "6.\tAmong closed cases, identify the individual(s) that had an individual counseling session attendance rate (excluding cancelled sessions) in the bottom quartile.\n",
    "7.\tExplain how you would approach summarizing or visually presenting the above findings to program staff.\n",
    "\n",
    "Please summarize the steps you used to get the above information (including any data cleaning needed) and list any lingering questions and key findings. Please include any definitions or assumptions you made to complete the task.\n"
   ]
  },
  {
   "cell_type": "markdown",
   "id": "9e3ff386",
   "metadata": {},
   "source": [
    "#### 07/31/2023 at 16:42 CEST\n",
    "* Read in  data, \"rda_data_exercise_client.csv\" and \"rda_data_exercise_program.csv\"\n",
    "* Clean data\n",
    "* Export interim and processed data"
   ]
  },
  {
   "cell_type": "markdown",
   "id": "9302cf49",
   "metadata": {},
   "source": [
    "### NOTE: Access the accompanying Google Doc: https://docs.google.com/document/d/1KlWVkjx1sDyvUm6yZoa13OFqU4YUC3WW4-6VmCHdw9g/edit?usp=sharing"
   ]
  },
  {
   "cell_type": "code",
   "execution_count": 1,
   "id": "aea648a9",
   "metadata": {},
   "outputs": [],
   "source": [
    "# import necessary packages\n",
    "import os\n",
    "import numpy as np\n",
    "import pandas as pd\n",
    "#from datetime import datetime"
   ]
  },
  {
   "cell_type": "code",
   "execution_count": 2,
   "id": "dbed53bc",
   "metadata": {},
   "outputs": [
    {
     "name": "stdout",
     "output_type": "stream",
     "text": [
      "Directory Changes\n",
      "Current working directory is: C:\\Users\\Carol\\Documents\\Work\\WorkOpportunities\\CJI\\cji-analysis\n"
     ]
    }
   ],
   "source": [
    "# change working directory to a specified directory\n",
    "os.chdir('../')\n",
    "print(\"Directory Changes\")\n",
    "\n",
    "# Get current working directory\n",
    "cwd = os.getcwd()\n",
    "print(\"Current working directory is:\", cwd)"
   ]
  },
  {
   "cell_type": "markdown",
   "id": "a05dc834",
   "metadata": {},
   "source": [
    "### 0. Data Understanding"
   ]
  },
  {
   "cell_type": "markdown",
   "id": "62f8d433",
   "metadata": {},
   "source": [
    "#### 0.1 Client Data Understanding"
   ]
  },
  {
   "cell_type": "code",
   "execution_count": 3,
   "id": "71e0becc",
   "metadata": {},
   "outputs": [],
   "source": [
    "# read in raw 'rda_data_exercise_client' data\n",
    "data_client_raw = pd.read_csv(\"data/raw/rda_data_exercise_client.csv\")"
   ]
  },
  {
   "cell_type": "code",
   "execution_count": 4,
   "id": "12367b64",
   "metadata": {},
   "outputs": [
    {
     "data": {
      "text/plain": [
       "(23, 6)"
      ]
     },
     "execution_count": 4,
     "metadata": {},
     "output_type": "execute_result"
    }
   ],
   "source": [
    "# gain insight into 'data_client_raw'\n",
    "data_client_raw.shape \n",
    "\n",
    "# 'data_raw' has 23 entries, i.e., 23 instances of participating clients\n",
    "    ## in the alternative sentencing program"
   ]
  },
  {
   "cell_type": "code",
   "execution_count": 5,
   "id": "bd02358d",
   "metadata": {},
   "outputs": [
    {
     "data": {
      "text/html": [
       "<div>\n",
       "<style scoped>\n",
       "    .dataframe tbody tr th:only-of-type {\n",
       "        vertical-align: middle;\n",
       "    }\n",
       "\n",
       "    .dataframe tbody tr th {\n",
       "        vertical-align: top;\n",
       "    }\n",
       "\n",
       "    .dataframe thead th {\n",
       "        text-align: right;\n",
       "    }\n",
       "</style>\n",
       "<table border=\"1\" class=\"dataframe\">\n",
       "  <thead>\n",
       "    <tr style=\"text-align: right;\">\n",
       "      <th></th>\n",
       "      <th>First Name</th>\n",
       "      <th>Last Name</th>\n",
       "      <th>Date of Birth</th>\n",
       "      <th>Person ID</th>\n",
       "      <th>Case Opened Date</th>\n",
       "      <th>Case Closed Date</th>\n",
       "    </tr>\n",
       "  </thead>\n",
       "  <tbody>\n",
       "    <tr>\n",
       "      <th>18</th>\n",
       "      <td>Charlie</td>\n",
       "      <td>Dog</td>\n",
       "      <td>15/11/2001</td>\n",
       "      <td>1000180</td>\n",
       "      <td>01/09/2019</td>\n",
       "      <td>01/11/2019</td>\n",
       "    </tr>\n",
       "    <tr>\n",
       "      <th>19</th>\n",
       "      <td>Petunia</td>\n",
       "      <td>Pig</td>\n",
       "      <td>14/12/2002</td>\n",
       "      <td>1000190</td>\n",
       "      <td>14/04/2019</td>\n",
       "      <td>05/08/2019</td>\n",
       "    </tr>\n",
       "    <tr>\n",
       "      <th>20</th>\n",
       "      <td>Cecil</td>\n",
       "      <td>Turtle</td>\n",
       "      <td>15/07/1965</td>\n",
       "      <td>1000200</td>\n",
       "      <td>01/07/2019</td>\n",
       "      <td>06/09/2019</td>\n",
       "    </tr>\n",
       "    <tr>\n",
       "      <th>21</th>\n",
       "      <td>Giovanni</td>\n",
       "      <td>Jones</td>\n",
       "      <td>04/08/1957</td>\n",
       "      <td>1000210</td>\n",
       "      <td>05/08/2018</td>\n",
       "      <td>01/02/2019</td>\n",
       "    </tr>\n",
       "    <tr>\n",
       "      <th>22</th>\n",
       "      <td>Ralph</td>\n",
       "      <td>Phillips</td>\n",
       "      <td>29/09/1999</td>\n",
       "      <td>1000220</td>\n",
       "      <td>12/05/2019</td>\n",
       "      <td>01/09/2019</td>\n",
       "    </tr>\n",
       "  </tbody>\n",
       "</table>\n",
       "</div>"
      ],
      "text/plain": [
       "   First Name Last Name Date of Birth  Person ID Case Opened Date  \\\n",
       "18    Charlie       Dog    15/11/2001    1000180       01/09/2019   \n",
       "19    Petunia       Pig    14/12/2002    1000190       14/04/2019   \n",
       "20      Cecil    Turtle    15/07/1965    1000200       01/07/2019   \n",
       "21   Giovanni     Jones    04/08/1957    1000210       05/08/2018   \n",
       "22      Ralph  Phillips    29/09/1999    1000220       12/05/2019   \n",
       "\n",
       "   Case Closed Date  \n",
       "18       01/11/2019  \n",
       "19       05/08/2019  \n",
       "20       06/09/2019  \n",
       "21       01/02/2019  \n",
       "22       01/09/2019  "
      ]
     },
     "execution_count": 5,
     "metadata": {},
     "output_type": "execute_result"
    }
   ],
   "source": [
    "# gain insight into 'data_client_raw'\n",
    "data_client_raw.tail()"
   ]
  },
  {
   "cell_type": "code",
   "execution_count": 6,
   "id": "86a5efae",
   "metadata": {},
   "outputs": [
    {
     "name": "stdout",
     "output_type": "stream",
     "text": [
      "Index(['First Name', 'Last Name', 'Date of Birth', 'Person ID',\n",
      "       'Case Opened Date', 'Case Closed Date'],\n",
      "      dtype='object')\n"
     ]
    }
   ],
   "source": [
    "# get 'data_client_raw' column names\n",
    "print(data_client_raw.columns)"
   ]
  },
  {
   "cell_type": "code",
   "execution_count": 7,
   "id": "4f3b991b",
   "metadata": {},
   "outputs": [
    {
     "data": {
      "text/html": [
       "<div>\n",
       "<style scoped>\n",
       "    .dataframe tbody tr th:only-of-type {\n",
       "        vertical-align: middle;\n",
       "    }\n",
       "\n",
       "    .dataframe tbody tr th {\n",
       "        vertical-align: top;\n",
       "    }\n",
       "\n",
       "    .dataframe thead th {\n",
       "        text-align: right;\n",
       "    }\n",
       "</style>\n",
       "<table border=\"1\" class=\"dataframe\">\n",
       "  <thead>\n",
       "    <tr style=\"text-align: right;\">\n",
       "      <th></th>\n",
       "      <th>First Name</th>\n",
       "      <th>Last Name</th>\n",
       "      <th>Date of Birth</th>\n",
       "      <th>Person ID</th>\n",
       "      <th>Case Opened Date</th>\n",
       "      <th>Case Closed Date</th>\n",
       "    </tr>\n",
       "  </thead>\n",
       "  <tbody>\n",
       "    <tr>\n",
       "      <th>0</th>\n",
       "      <td>Tweety</td>\n",
       "      <td>Bird</td>\n",
       "      <td>09/05/1987</td>\n",
       "      <td>1000010</td>\n",
       "      <td>09/05/2019</td>\n",
       "      <td>16/10/2019</td>\n",
       "    </tr>\n",
       "    <tr>\n",
       "      <th>1</th>\n",
       "      <td>Buster</td>\n",
       "      <td>Bunny</td>\n",
       "      <td>03/09/1992</td>\n",
       "      <td>1000020</td>\n",
       "      <td>20/01/2019</td>\n",
       "      <td>04/05/2019</td>\n",
       "    </tr>\n",
       "    <tr>\n",
       "      <th>2</th>\n",
       "      <td>Sylvester</td>\n",
       "      <td>Cat</td>\n",
       "      <td>08/03/1998</td>\n",
       "      <td>1000030</td>\n",
       "      <td>01/04/2019</td>\n",
       "      <td>12/08/2019</td>\n",
       "    </tr>\n",
       "    <tr>\n",
       "      <th>3</th>\n",
       "      <td>Road</td>\n",
       "      <td>Runner</td>\n",
       "      <td>05/01/1990</td>\n",
       "      <td>1000040</td>\n",
       "      <td>05/03/2018</td>\n",
       "      <td>22/08/2018</td>\n",
       "    </tr>\n",
       "    <tr>\n",
       "      <th>4</th>\n",
       "      <td>Road</td>\n",
       "      <td>Runner</td>\n",
       "      <td>05/01/1990</td>\n",
       "      <td>1000040</td>\n",
       "      <td>05/07/2019</td>\n",
       "      <td>31/10/2019</td>\n",
       "    </tr>\n",
       "    <tr>\n",
       "      <th>5</th>\n",
       "      <td>Wiley</td>\n",
       "      <td>Coyote</td>\n",
       "      <td>05/03/2000</td>\n",
       "      <td>1000050</td>\n",
       "      <td>13/04/2019</td>\n",
       "      <td>30/07/2019</td>\n",
       "    </tr>\n",
       "    <tr>\n",
       "      <th>6</th>\n",
       "      <td>Fred</td>\n",
       "      <td>Flinstone</td>\n",
       "      <td>14/04/2001</td>\n",
       "      <td>1000060</td>\n",
       "      <td>01/10/2019</td>\n",
       "      <td>NaN</td>\n",
       "    </tr>\n",
       "    <tr>\n",
       "      <th>7</th>\n",
       "      <td>Marvin</td>\n",
       "      <td>Martian</td>\n",
       "      <td>05/12/2023</td>\n",
       "      <td>1000070</td>\n",
       "      <td>15/05/2019</td>\n",
       "      <td>21/09/2019</td>\n",
       "    </tr>\n",
       "    <tr>\n",
       "      <th>8</th>\n",
       "      <td>Elmer</td>\n",
       "      <td>Fudd</td>\n",
       "      <td>29/07/1999</td>\n",
       "      <td>1000080</td>\n",
       "      <td>19/09/2018</td>\n",
       "      <td>NaN</td>\n",
       "    </tr>\n",
       "    <tr>\n",
       "      <th>9</th>\n",
       "      <td>Roger</td>\n",
       "      <td>Rabbit</td>\n",
       "      <td>01/08/1995</td>\n",
       "      <td>1000090</td>\n",
       "      <td>14/03/2019</td>\n",
       "      <td>12/09/2019</td>\n",
       "    </tr>\n",
       "    <tr>\n",
       "      <th>10</th>\n",
       "      <td>Bugs</td>\n",
       "      <td>Bunny</td>\n",
       "      <td>16/06/1985</td>\n",
       "      <td>1000100</td>\n",
       "      <td>25/05/2109</td>\n",
       "      <td>12/09/2019</td>\n",
       "    </tr>\n",
       "    <tr>\n",
       "      <th>11</th>\n",
       "      <td>Daffy</td>\n",
       "      <td>Duck</td>\n",
       "      <td>22/04/1975</td>\n",
       "      <td>1000110</td>\n",
       "      <td>01/08/2018</td>\n",
       "      <td>NaN</td>\n",
       "    </tr>\n",
       "    <tr>\n",
       "      <th>12</th>\n",
       "      <td>Spongebob</td>\n",
       "      <td>Squarepants</td>\n",
       "      <td>13/06/1991</td>\n",
       "      <td>1000120</td>\n",
       "      <td>05/01/2019</td>\n",
       "      <td>12/09/2019</td>\n",
       "    </tr>\n",
       "    <tr>\n",
       "      <th>13</th>\n",
       "      <td>Foghorn</td>\n",
       "      <td>Leghorn</td>\n",
       "      <td>15/08/1997</td>\n",
       "      <td>1000130</td>\n",
       "      <td>23/04/2019</td>\n",
       "      <td>01/10/2019</td>\n",
       "    </tr>\n",
       "    <tr>\n",
       "      <th>14</th>\n",
       "      <td>Tasmanian</td>\n",
       "      <td>Devil</td>\n",
       "      <td>25/11/2023</td>\n",
       "      <td>1000140</td>\n",
       "      <td>12/01/2019</td>\n",
       "      <td>15/07/2019</td>\n",
       "    </tr>\n",
       "    <tr>\n",
       "      <th>15</th>\n",
       "      <td>Penelope</td>\n",
       "      <td>Cat</td>\n",
       "      <td>19/03/1988</td>\n",
       "      <td>1000150</td>\n",
       "      <td>07/05/2019</td>\n",
       "      <td>NaN</td>\n",
       "    </tr>\n",
       "    <tr>\n",
       "      <th>16</th>\n",
       "      <td>Yosemite</td>\n",
       "      <td>Sam</td>\n",
       "      <td>17/05/1993</td>\n",
       "      <td>1000160</td>\n",
       "      <td>19/01/2019</td>\n",
       "      <td>15/06/2019</td>\n",
       "    </tr>\n",
       "    <tr>\n",
       "      <th>17</th>\n",
       "      <td>Hector</td>\n",
       "      <td>Bulldog</td>\n",
       "      <td>19/10/1998</td>\n",
       "      <td>1000170</td>\n",
       "      <td>12/08/2018</td>\n",
       "      <td>11/09/2019</td>\n",
       "    </tr>\n",
       "    <tr>\n",
       "      <th>18</th>\n",
       "      <td>Charlie</td>\n",
       "      <td>Dog</td>\n",
       "      <td>15/11/2001</td>\n",
       "      <td>1000180</td>\n",
       "      <td>01/09/2019</td>\n",
       "      <td>01/11/2019</td>\n",
       "    </tr>\n",
       "    <tr>\n",
       "      <th>19</th>\n",
       "      <td>Petunia</td>\n",
       "      <td>Pig</td>\n",
       "      <td>14/12/2002</td>\n",
       "      <td>1000190</td>\n",
       "      <td>14/04/2019</td>\n",
       "      <td>05/08/2019</td>\n",
       "    </tr>\n",
       "    <tr>\n",
       "      <th>20</th>\n",
       "      <td>Cecil</td>\n",
       "      <td>Turtle</td>\n",
       "      <td>15/07/1965</td>\n",
       "      <td>1000200</td>\n",
       "      <td>01/07/2019</td>\n",
       "      <td>06/09/2019</td>\n",
       "    </tr>\n",
       "    <tr>\n",
       "      <th>21</th>\n",
       "      <td>Giovanni</td>\n",
       "      <td>Jones</td>\n",
       "      <td>04/08/1957</td>\n",
       "      <td>1000210</td>\n",
       "      <td>05/08/2018</td>\n",
       "      <td>01/02/2019</td>\n",
       "    </tr>\n",
       "    <tr>\n",
       "      <th>22</th>\n",
       "      <td>Ralph</td>\n",
       "      <td>Phillips</td>\n",
       "      <td>29/09/1999</td>\n",
       "      <td>1000220</td>\n",
       "      <td>12/05/2019</td>\n",
       "      <td>01/09/2019</td>\n",
       "    </tr>\n",
       "  </tbody>\n",
       "</table>\n",
       "</div>"
      ],
      "text/plain": [
       "   First Name    Last Name Date of Birth  Person ID Case Opened Date  \\\n",
       "0      Tweety         Bird    09/05/1987    1000010       09/05/2019   \n",
       "1      Buster        Bunny    03/09/1992    1000020       20/01/2019   \n",
       "2   Sylvester          Cat    08/03/1998    1000030       01/04/2019   \n",
       "3        Road       Runner    05/01/1990    1000040       05/03/2018   \n",
       "4        Road       Runner    05/01/1990    1000040       05/07/2019   \n",
       "5       Wiley       Coyote    05/03/2000    1000050       13/04/2019   \n",
       "6        Fred    Flinstone    14/04/2001    1000060       01/10/2019   \n",
       "7      Marvin      Martian    05/12/2023    1000070       15/05/2019   \n",
       "8       Elmer         Fudd    29/07/1999    1000080       19/09/2018   \n",
       "9       Roger       Rabbit    01/08/1995    1000090       14/03/2019   \n",
       "10       Bugs        Bunny    16/06/1985    1000100       25/05/2109   \n",
       "11      Daffy         Duck    22/04/1975    1000110       01/08/2018   \n",
       "12  Spongebob  Squarepants    13/06/1991    1000120       05/01/2019   \n",
       "13    Foghorn      Leghorn    15/08/1997    1000130       23/04/2019   \n",
       "14  Tasmanian        Devil    25/11/2023    1000140       12/01/2019   \n",
       "15   Penelope          Cat    19/03/1988    1000150       07/05/2019   \n",
       "16   Yosemite          Sam    17/05/1993    1000160       19/01/2019   \n",
       "17     Hector      Bulldog    19/10/1998    1000170       12/08/2018   \n",
       "18    Charlie          Dog    15/11/2001    1000180       01/09/2019   \n",
       "19    Petunia          Pig    14/12/2002    1000190       14/04/2019   \n",
       "20      Cecil       Turtle    15/07/1965    1000200       01/07/2019   \n",
       "21   Giovanni        Jones    04/08/1957    1000210       05/08/2018   \n",
       "22      Ralph     Phillips    29/09/1999    1000220       12/05/2019   \n",
       "\n",
       "   Case Closed Date  \n",
       "0        16/10/2019  \n",
       "1        04/05/2019  \n",
       "2        12/08/2019  \n",
       "3        22/08/2018  \n",
       "4        31/10/2019  \n",
       "5        30/07/2019  \n",
       "6               NaN  \n",
       "7        21/09/2019  \n",
       "8               NaN  \n",
       "9        12/09/2019  \n",
       "10       12/09/2019  \n",
       "11              NaN  \n",
       "12       12/09/2019  \n",
       "13       01/10/2019  \n",
       "14       15/07/2019  \n",
       "15              NaN  \n",
       "16       15/06/2019  \n",
       "17       11/09/2019  \n",
       "18       01/11/2019  \n",
       "19       05/08/2019  \n",
       "20       06/09/2019  \n",
       "21       01/02/2019  \n",
       "22       01/09/2019  "
      ]
     },
     "execution_count": 7,
     "metadata": {},
     "output_type": "execute_result"
    }
   ],
   "source": [
    "# check for duplicate rows and drop them\n",
    "data_client_raw.drop_duplicates()"
   ]
  },
  {
   "cell_type": "code",
   "execution_count": 8,
   "id": "dc6fb4ff",
   "metadata": {},
   "outputs": [
    {
     "data": {
      "text/plain": [
       "0"
      ]
     },
     "execution_count": 8,
     "metadata": {},
     "output_type": "execute_result"
    }
   ],
   "source": [
    "# check in 'data_client_raw' for instances where 'First Name' is not listed\n",
    "data_client_raw['First Name'].isnull().sum()\n",
    "\n",
    "# 0 client records lack a 'First Name' value"
   ]
  },
  {
   "cell_type": "code",
   "execution_count": 9,
   "id": "7256e1fc",
   "metadata": {},
   "outputs": [
    {
     "data": {
      "text/plain": [
       "0"
      ]
     },
     "execution_count": 9,
     "metadata": {},
     "output_type": "execute_result"
    }
   ],
   "source": [
    "# check in 'data_client_raw' for instances where 'Last Name' is not listed\n",
    "data_client_raw['Last Name'].isnull().sum()\n",
    "\n",
    "# 0 client records lack a 'Last Name' value"
   ]
  },
  {
   "cell_type": "code",
   "execution_count": 10,
   "id": "2e161762",
   "metadata": {},
   "outputs": [
    {
     "data": {
      "text/plain": [
       "0"
      ]
     },
     "execution_count": 10,
     "metadata": {},
     "output_type": "execute_result"
    }
   ],
   "source": [
    "# check in 'data_client_raw' for instances where 'Date of Birth' is not listed\n",
    "data_client_raw['Date of Birth'].isnull().sum()\n",
    "\n",
    "# 0 client records lack a 'Date of Birth' value"
   ]
  },
  {
   "cell_type": "code",
   "execution_count": 11,
   "id": "c281fc65",
   "metadata": {},
   "outputs": [
    {
     "data": {
      "text/plain": [
       "0"
      ]
     },
     "execution_count": 11,
     "metadata": {},
     "output_type": "execute_result"
    }
   ],
   "source": [
    "# check in 'data_client_raw' for instances where 'Case Opened Date' is not listed\n",
    "data_client_raw['Case Opened Date'].isnull().sum()\n",
    "\n",
    "# 0 client records lack a 'Case Opened Date' value"
   ]
  },
  {
   "cell_type": "code",
   "execution_count": 12,
   "id": "7d6e84ec",
   "metadata": {},
   "outputs": [
    {
     "data": {
      "text/plain": [
       "4"
      ]
     },
     "execution_count": 12,
     "metadata": {},
     "output_type": "execute_result"
    }
   ],
   "source": [
    "# check in 'data_client_raw' for instances where 'Case Closed Date' is not listed\n",
    "data_client_raw['Case Closed Date'].isnull().sum()\n",
    "\n",
    "# 4 client records lack a 'Case Closed Date' value"
   ]
  },
  {
   "cell_type": "code",
   "execution_count": 13,
   "id": "6638098b",
   "metadata": {},
   "outputs": [
    {
     "name": "stdout",
     "output_type": "stream",
     "text": [
      "[6, 8, 11, 15]\n"
     ]
    }
   ],
   "source": [
    "# identify index values in 'data_client_raw' where the 'Case Closed Date' is missing\n",
    "missing_close_date = [index for index, row in data_client_raw.iterrows() if row.isnull().any()]\n",
    "print(missing_close_date)\n",
    "\n",
    "## NOTE: the 'Case Closed Date' is missing for indexes 6, 8, 11, and 15.  This could mean that\n",
    "    ## these cases are either 1) ongoing or 2) there has been an error in data entry.\n",
    "    ## Regardless, this is an interesting point to consider in interpreting findings / guiding\n",
    "    ## future work."
   ]
  },
  {
   "cell_type": "code",
   "execution_count": 14,
   "id": "accf7c5f",
   "metadata": {},
   "outputs": [
    {
     "data": {
      "text/plain": [
       "0"
      ]
     },
     "execution_count": 14,
     "metadata": {},
     "output_type": "execute_result"
    }
   ],
   "source": [
    "# check in 'data_client_raw' for instances where 'Person ID' (unique person identification number) is not listed\n",
    "data_client_raw['Person ID'].isnull().sum()\n",
    "\n",
    "# 0 client instances lack a 'Person ID' value"
   ]
  },
  {
   "cell_type": "code",
   "execution_count": 15,
   "id": "4e35715f",
   "metadata": {},
   "outputs": [
    {
     "data": {
      "text/plain": [
       "22"
      ]
     },
     "execution_count": 15,
     "metadata": {},
     "output_type": "execute_result"
    }
   ],
   "source": [
    "# check for recurring instances in 'data_client_raw' of 'Person ID' to see if there are any instances of the same\n",
    "    ## person being recorded more than once in the data\n",
    "data_client_raw['Person ID'].nunique() \n",
    "\n",
    "# 22 unique 'Person ID' but 23 instances of participating clients, meaning one client's ID shows up more than once\n",
    "    ## (i.e., twice) in the data"
   ]
  },
  {
   "cell_type": "code",
   "execution_count": 16,
   "id": "77bbb88e",
   "metadata": {},
   "outputs": [
    {
     "name": "stdout",
     "output_type": "stream",
     "text": [
      "1\n",
      "[1000040]\n"
     ]
    }
   ],
   "source": [
    "# check in 'data_client_raw' for instances of duplicated 'Person ID'\n",
    "values = data_client_raw['Person ID'].value_counts()\n",
    "values = values[values > 1].index.tolist()\n",
    "print(len(values))\n",
    "print(values)\n",
    "\n",
    "# 1 'Person ID' values, \"1000040\", appears more than once in 'data_client_raw'"
   ]
  },
  {
   "cell_type": "code",
   "execution_count": 17,
   "id": "c2d84cec",
   "metadata": {},
   "outputs": [
    {
     "data": {
      "text/html": [
       "<div>\n",
       "<style scoped>\n",
       "    .dataframe tbody tr th:only-of-type {\n",
       "        vertical-align: middle;\n",
       "    }\n",
       "\n",
       "    .dataframe tbody tr th {\n",
       "        vertical-align: top;\n",
       "    }\n",
       "\n",
       "    .dataframe thead th {\n",
       "        text-align: right;\n",
       "    }\n",
       "</style>\n",
       "<table border=\"1\" class=\"dataframe\">\n",
       "  <thead>\n",
       "    <tr style=\"text-align: right;\">\n",
       "      <th></th>\n",
       "      <th>First Name</th>\n",
       "      <th>Last Name</th>\n",
       "      <th>Date of Birth</th>\n",
       "      <th>Person ID</th>\n",
       "      <th>Case Opened Date</th>\n",
       "      <th>Case Closed Date</th>\n",
       "    </tr>\n",
       "  </thead>\n",
       "  <tbody>\n",
       "    <tr>\n",
       "      <th>3</th>\n",
       "      <td>Road</td>\n",
       "      <td>Runner</td>\n",
       "      <td>05/01/1990</td>\n",
       "      <td>1000040</td>\n",
       "      <td>05/03/2018</td>\n",
       "      <td>22/08/2018</td>\n",
       "    </tr>\n",
       "    <tr>\n",
       "      <th>4</th>\n",
       "      <td>Road</td>\n",
       "      <td>Runner</td>\n",
       "      <td>05/01/1990</td>\n",
       "      <td>1000040</td>\n",
       "      <td>05/07/2019</td>\n",
       "      <td>31/10/2019</td>\n",
       "    </tr>\n",
       "  </tbody>\n",
       "</table>\n",
       "</div>"
      ],
      "text/plain": [
       "  First Name Last Name Date of Birth  Person ID Case Opened Date  \\\n",
       "3       Road    Runner    05/01/1990    1000040       05/03/2018   \n",
       "4       Road    Runner    05/01/1990    1000040       05/07/2019   \n",
       "\n",
       "  Case Closed Date  \n",
       "3       22/08/2018  \n",
       "4       31/10/2019  "
      ]
     },
     "execution_count": 17,
     "metadata": {},
     "output_type": "execute_result"
    }
   ],
   "source": [
    "# inspect additional information associated with 'Person ID' 1000040, which shows up in the dataset more than once\n",
    "data_client_raw.loc[data_client_raw['Person ID']==1000040]\n",
    "\n",
    "## NOTE: Upon further inspection, 'Person ID' '1000040' appears in the data 2 times.\n",
    "    ## This individual had one case opened on March 5, 2018 and closed on August 22, 2018.\n",
    "    ## Then, roughly a year after their first case had closed, they then had a second case \n",
    "    ## opened on July 5, 2019.  This second case closed on October 31 2019.\n",
    "    ## FUTURE RESEARCH could involve trying to understand the surrounding circumstances related to\n",
    "    ## this person's return to an alternate sentencing program.  For example, is there a correlation\n",
    "    ## between their age, the number of individual counseling / group sessions attended/cancelled, and \n",
    "    ## the need to return to programming?"
   ]
  },
  {
   "cell_type": "markdown",
   "id": "c265a26c",
   "metadata": {},
   "source": [
    "#### 0.2 Program Data Understanding"
   ]
  },
  {
   "cell_type": "code",
   "execution_count": 18,
   "id": "314e93d4",
   "metadata": {},
   "outputs": [],
   "source": [
    "# read in raw 'rda_data_exercise_program' data\n",
    "data_program_raw = pd.read_csv(\"data/raw/rda_data_exercise_program.csv\")"
   ]
  },
  {
   "cell_type": "code",
   "execution_count": 19,
   "id": "91f30a53",
   "metadata": {},
   "outputs": [
    {
     "data": {
      "text/plain": [
       "(177, 4)"
      ]
     },
     "execution_count": 19,
     "metadata": {},
     "output_type": "execute_result"
    }
   ],
   "source": [
    "# gain insight into 'data_program_raw'\n",
    "data_program_raw.shape \n",
    "\n",
    "# 'data_raw' has 177 entries, i.e., 177 instances of participating clients\n",
    "    ## attending (or not) the alternative sentencing programming"
   ]
  },
  {
   "cell_type": "code",
   "execution_count": 20,
   "id": "1c262baa",
   "metadata": {},
   "outputs": [
    {
     "data": {
      "text/html": [
       "<div>\n",
       "<style scoped>\n",
       "    .dataframe tbody tr th:only-of-type {\n",
       "        vertical-align: middle;\n",
       "    }\n",
       "\n",
       "    .dataframe tbody tr th {\n",
       "        vertical-align: top;\n",
       "    }\n",
       "\n",
       "    .dataframe thead th {\n",
       "        text-align: right;\n",
       "    }\n",
       "</style>\n",
       "<table border=\"1\" class=\"dataframe\">\n",
       "  <thead>\n",
       "    <tr style=\"text-align: right;\">\n",
       "      <th></th>\n",
       "      <th>Person ID</th>\n",
       "      <th>Program</th>\n",
       "      <th>Date</th>\n",
       "      <th>Attended</th>\n",
       "    </tr>\n",
       "  </thead>\n",
       "  <tbody>\n",
       "    <tr>\n",
       "      <th>172</th>\n",
       "      <td>1000220</td>\n",
       "      <td>Group Class</td>\n",
       "      <td>20/08/2019</td>\n",
       "      <td>Y</td>\n",
       "    </tr>\n",
       "    <tr>\n",
       "      <th>173</th>\n",
       "      <td>1000220</td>\n",
       "      <td>Individual Counseling</td>\n",
       "      <td>26/10/2019</td>\n",
       "      <td>Cancelled</td>\n",
       "    </tr>\n",
       "    <tr>\n",
       "      <th>174</th>\n",
       "      <td>1000220</td>\n",
       "      <td>Individual Counseling</td>\n",
       "      <td>18/05/2019</td>\n",
       "      <td>Y</td>\n",
       "    </tr>\n",
       "    <tr>\n",
       "      <th>175</th>\n",
       "      <td>1000220</td>\n",
       "      <td>Individual Counseling</td>\n",
       "      <td>12/07/2019</td>\n",
       "      <td>N</td>\n",
       "    </tr>\n",
       "    <tr>\n",
       "      <th>176</th>\n",
       "      <td>1000220</td>\n",
       "      <td>Individual Counseling</td>\n",
       "      <td>18/08/2019</td>\n",
       "      <td>N</td>\n",
       "    </tr>\n",
       "  </tbody>\n",
       "</table>\n",
       "</div>"
      ],
      "text/plain": [
       "     Person ID                Program        Date   Attended\n",
       "172    1000220            Group Class  20/08/2019          Y\n",
       "173    1000220  Individual Counseling  26/10/2019  Cancelled\n",
       "174    1000220  Individual Counseling  18/05/2019          Y\n",
       "175    1000220  Individual Counseling  12/07/2019          N\n",
       "176    1000220  Individual Counseling  18/08/2019          N"
      ]
     },
     "execution_count": 20,
     "metadata": {},
     "output_type": "execute_result"
    }
   ],
   "source": [
    "# gain insight into 'data_program_raw'\n",
    "data_program_raw.tail()\n",
    "\n",
    "## NOTE:  'data_program_raw' is in long form, so each row represents every instance\n",
    "    ## where a client, with their individual 'Person ID', attended (Y/N/Cancelled) \n",
    "    ## a specific type of programming on a specific date.  Thus, no need to find instances\n",
    "    ## of repeated 'Person ID', just need to find instances of repeated rows"
   ]
  },
  {
   "cell_type": "code",
   "execution_count": 21,
   "id": "5cecc47f",
   "metadata": {},
   "outputs": [
    {
     "name": "stdout",
     "output_type": "stream",
     "text": [
      "Index(['Person ID', 'Program', 'Date', 'Attended'], dtype='object')\n"
     ]
    }
   ],
   "source": [
    "# get 'data_program_raw' column names\n",
    "print(data_program_raw.columns)"
   ]
  },
  {
   "cell_type": "code",
   "execution_count": 22,
   "id": "4b262450",
   "metadata": {},
   "outputs": [
    {
     "data": {
      "text/html": [
       "<div>\n",
       "<style scoped>\n",
       "    .dataframe tbody tr th:only-of-type {\n",
       "        vertical-align: middle;\n",
       "    }\n",
       "\n",
       "    .dataframe tbody tr th {\n",
       "        vertical-align: top;\n",
       "    }\n",
       "\n",
       "    .dataframe thead th {\n",
       "        text-align: right;\n",
       "    }\n",
       "</style>\n",
       "<table border=\"1\" class=\"dataframe\">\n",
       "  <thead>\n",
       "    <tr style=\"text-align: right;\">\n",
       "      <th></th>\n",
       "      <th>Person ID</th>\n",
       "      <th>Program</th>\n",
       "      <th>Date</th>\n",
       "      <th>Attended</th>\n",
       "    </tr>\n",
       "  </thead>\n",
       "  <tbody>\n",
       "    <tr>\n",
       "      <th>0</th>\n",
       "      <td>1000010</td>\n",
       "      <td>Individual Counseling</td>\n",
       "      <td>02/10/2019</td>\n",
       "      <td>Cancelled</td>\n",
       "    </tr>\n",
       "    <tr>\n",
       "      <th>1</th>\n",
       "      <td>1000010</td>\n",
       "      <td>Individual Counseling</td>\n",
       "      <td>07/10/2019</td>\n",
       "      <td>Cancelled</td>\n",
       "    </tr>\n",
       "    <tr>\n",
       "      <th>2</th>\n",
       "      <td>1000010</td>\n",
       "      <td>Group Class</td>\n",
       "      <td>13/09/2019</td>\n",
       "      <td>Y</td>\n",
       "    </tr>\n",
       "    <tr>\n",
       "      <th>3</th>\n",
       "      <td>1000010</td>\n",
       "      <td>Group Class</td>\n",
       "      <td>21/09/2019</td>\n",
       "      <td>Y</td>\n",
       "    </tr>\n",
       "    <tr>\n",
       "      <th>4</th>\n",
       "      <td>1000010</td>\n",
       "      <td>Group Class</td>\n",
       "      <td>29/09/2019</td>\n",
       "      <td>Y</td>\n",
       "    </tr>\n",
       "    <tr>\n",
       "      <th>...</th>\n",
       "      <td>...</td>\n",
       "      <td>...</td>\n",
       "      <td>...</td>\n",
       "      <td>...</td>\n",
       "    </tr>\n",
       "    <tr>\n",
       "      <th>172</th>\n",
       "      <td>1000220</td>\n",
       "      <td>Group Class</td>\n",
       "      <td>20/08/2019</td>\n",
       "      <td>Y</td>\n",
       "    </tr>\n",
       "    <tr>\n",
       "      <th>173</th>\n",
       "      <td>1000220</td>\n",
       "      <td>Individual Counseling</td>\n",
       "      <td>26/10/2019</td>\n",
       "      <td>Cancelled</td>\n",
       "    </tr>\n",
       "    <tr>\n",
       "      <th>174</th>\n",
       "      <td>1000220</td>\n",
       "      <td>Individual Counseling</td>\n",
       "      <td>18/05/2019</td>\n",
       "      <td>Y</td>\n",
       "    </tr>\n",
       "    <tr>\n",
       "      <th>175</th>\n",
       "      <td>1000220</td>\n",
       "      <td>Individual Counseling</td>\n",
       "      <td>12/07/2019</td>\n",
       "      <td>N</td>\n",
       "    </tr>\n",
       "    <tr>\n",
       "      <th>176</th>\n",
       "      <td>1000220</td>\n",
       "      <td>Individual Counseling</td>\n",
       "      <td>18/08/2019</td>\n",
       "      <td>N</td>\n",
       "    </tr>\n",
       "  </tbody>\n",
       "</table>\n",
       "<p>176 rows × 4 columns</p>\n",
       "</div>"
      ],
      "text/plain": [
       "     Person ID                Program        Date   Attended\n",
       "0      1000010  Individual Counseling  02/10/2019  Cancelled\n",
       "1      1000010  Individual Counseling  07/10/2019  Cancelled\n",
       "2      1000010            Group Class  13/09/2019          Y\n",
       "3      1000010            Group Class  21/09/2019          Y\n",
       "4      1000010            Group Class  29/09/2019          Y\n",
       "..         ...                    ...         ...        ...\n",
       "172    1000220            Group Class  20/08/2019          Y\n",
       "173    1000220  Individual Counseling  26/10/2019  Cancelled\n",
       "174    1000220  Individual Counseling  18/05/2019          Y\n",
       "175    1000220  Individual Counseling  12/07/2019          N\n",
       "176    1000220  Individual Counseling  18/08/2019          N\n",
       "\n",
       "[176 rows x 4 columns]"
      ]
     },
     "execution_count": 22,
     "metadata": {},
     "output_type": "execute_result"
    }
   ],
   "source": [
    "# check for duplicate rows and drop them\n",
    "data_program_raw.drop_duplicates()"
   ]
  },
  {
   "cell_type": "code",
   "execution_count": 23,
   "id": "c52f6eb0",
   "metadata": {},
   "outputs": [
    {
     "data": {
      "text/plain": [
       "0"
      ]
     },
     "execution_count": 23,
     "metadata": {},
     "output_type": "execute_result"
    }
   ],
   "source": [
    "# check in 'data_program_raw' for instances where 'Program' is not listed\n",
    "data_program_raw['Program'].isnull().sum()\n",
    "\n",
    "# 0 client records lack a 'Program' value"
   ]
  },
  {
   "cell_type": "code",
   "execution_count": 24,
   "id": "384f8528",
   "metadata": {},
   "outputs": [
    {
     "data": {
      "text/plain": [
       "0"
      ]
     },
     "execution_count": 24,
     "metadata": {},
     "output_type": "execute_result"
    }
   ],
   "source": [
    "# check in 'data_program_raw' for instances where 'Date' is not listed\n",
    "data_program_raw['Date'].isnull().sum()\n",
    "\n",
    "# 0 client records lack a 'Date' value"
   ]
  },
  {
   "cell_type": "code",
   "execution_count": 25,
   "id": "64093a3c",
   "metadata": {},
   "outputs": [
    {
     "data": {
      "text/plain": [
       "0"
      ]
     },
     "execution_count": 25,
     "metadata": {},
     "output_type": "execute_result"
    }
   ],
   "source": [
    "# check in 'data_program_raw' for instances where 'Attended' is not listed\n",
    "data_program_raw['Attended'].isnull().sum()\n",
    "\n",
    "# 0 client records lack a 'Attended' value"
   ]
  },
  {
   "cell_type": "code",
   "execution_count": 26,
   "id": "f39f2196",
   "metadata": {},
   "outputs": [
    {
     "data": {
      "text/plain": [
       "0"
      ]
     },
     "execution_count": 26,
     "metadata": {},
     "output_type": "execute_result"
    }
   ],
   "source": [
    "# check in 'data_program_raw' for instances where 'Person ID' (unique person identification number) is not listed\n",
    "data_program_raw['Person ID'].isnull().sum()\n",
    "\n",
    "# 0 client instances lack a 'Person ID' value"
   ]
  },
  {
   "cell_type": "markdown",
   "id": "b117bb82",
   "metadata": {},
   "source": [
    "### 1. Data Preparation "
   ]
  },
  {
   "cell_type": "markdown",
   "id": "beec8108",
   "metadata": {},
   "source": [
    "#### 1.1 Client Data Preparation"
   ]
  },
  {
   "cell_type": "markdown",
   "id": "43be1d1c",
   "metadata": {},
   "source": [
    "##### Client Dates"
   ]
  },
  {
   "cell_type": "code",
   "execution_count": 27,
   "id": "6eb9bbf8",
   "metadata": {},
   "outputs": [],
   "source": [
    "# make sure that 'Date of Birth', 'Case Opened Date', and 'Case Closed Date' columns of 'data_client_raw' are actually dates\n",
    "    ## NOTE: date is in dd/mm/yyyy format, NOT mm/dd/yyyy\n",
    "data_client_raw['Date of Birth'] = pd.to_datetime(data_client_raw['Date of Birth'], format = \"%d/%m/%Y\")\n",
    "data_client_raw['Case Opened Date'] = pd.to_datetime(data_client_raw['Case Opened Date'], format = \"%d/%m/%Y\")\n",
    "data_client_raw['Case Closed Date'] = pd.to_datetime(data_client_raw['Case Closed Date'], format = \"%d/%m/%Y\")"
   ]
  },
  {
   "cell_type": "code",
   "execution_count": 28,
   "id": "ae896574",
   "metadata": {},
   "outputs": [],
   "source": [
    "# initialize an empty list, 'bad_dates' to store the instances of rows where 'Case Opened Date' date \n",
    "    ## comes before 'Case Closed Date' date\n",
    "bad_dates = []\n",
    "\n",
    "# iterate through each row in the dataframe\n",
    "for index, row in data_client_raw.iterrows():\n",
    "    # get the dates from 'Case Opened Date' and 'Case Closed Date'\n",
    "    date_opened = row['Case Opened Date']\n",
    "    date_closed = row['Case Closed Date']\n",
    "\n",
    "    # compare the dates and check if 'Case Closed Date' date comes before 'Case Opened Date' date\n",
    "    if date_closed < date_opened:\n",
    "        # if the condition is true, save the column ID (index) in the list, 'bad_dates'\n",
    "        bad_dates.append(index)"
   ]
  },
  {
   "cell_type": "code",
   "execution_count": 29,
   "id": "aef33b3f",
   "metadata": {},
   "outputs": [
    {
     "data": {
      "text/plain": [
       "[10]"
      ]
     },
     "execution_count": 29,
     "metadata": {},
     "output_type": "execute_result"
    }
   ],
   "source": [
    "# gain insight into 'bad_dates'\n",
    "bad_dates\n",
    "\n",
    "# 'data_client_raw' indexed at 10 present issues in the data, where the 'Case Closed Date'\n",
    "    ## comes before the 'Case Opened Date'.  Must investigate these instances further!"
   ]
  },
  {
   "cell_type": "code",
   "execution_count": 30,
   "id": "6b356d13",
   "metadata": {},
   "outputs": [
    {
     "data": {
      "text/plain": [
       "First Name                         Bugs\n",
       "Last Name                         Bunny\n",
       "Date of Birth       1985-06-16 00:00:00\n",
       "Person ID                       1000100\n",
       "Case Opened Date    2109-05-25 00:00:00\n",
       "Case Closed Date    2019-09-12 00:00:00\n",
       "Name: 10, dtype: object"
      ]
     },
     "execution_count": 30,
     "metadata": {},
     "output_type": "execute_result"
    }
   ],
   "source": [
    "# gain insight into 'data_client_raw' index 10\n",
    "data_client_raw.iloc[10]\n",
    "\n",
    "## NOTE: An obvious error exists where 'Case Opened Date' year is '2109' instead of '2019'\n",
    "    ## This must be fixed manually!"
   ]
  },
  {
   "cell_type": "code",
   "execution_count": 31,
   "id": "4f3cab2c",
   "metadata": {},
   "outputs": [],
   "source": [
    "# change index 10 'data_client_raw' year from '2109' to '2019'    \n",
    "data_client_raw.loc[10, 'Case Opened Date'] = '2019-05-25'"
   ]
  },
  {
   "cell_type": "markdown",
   "id": "81c5d0a3",
   "metadata": {},
   "source": [
    "##### Client Person IDs"
   ]
  },
  {
   "cell_type": "code",
   "execution_count": 32,
   "id": "70d03f61",
   "metadata": {},
   "outputs": [],
   "source": [
    "# create a new function, 'assignID_0' to creates a new Person ID with add-ons '_00' and '_01' for clients that have more than one case\n",
    "    ## considering the 'Case Opened Date'\n",
    "def assignID_0(row):\n",
    "    person_id = row['Person ID']\n",
    "    case_date = row['Case Opened Date']\n",
    "    \n",
    "    if int(person_id) in values and case_date.year == 2018:\n",
    "        person_id = person_id + '_00'\n",
    "        \n",
    "    elif int(person_id) in values and case_date.year == 2019:\n",
    "        person_id = person_id + '_01'\n",
    "        \n",
    "    else:\n",
    "        person_id = person_id\n",
    "    return person_id"
   ]
  },
  {
   "cell_type": "code",
   "execution_count": 33,
   "id": "e2c3e1d6",
   "metadata": {},
   "outputs": [],
   "source": [
    "# convert 'data_client_raw' 'Person ID' to string\n",
    "data_client_raw['Person ID'] = data_client_raw['Person ID'].astype(str)"
   ]
  },
  {
   "cell_type": "code",
   "execution_count": 34,
   "id": "caf95a08",
   "metadata": {},
   "outputs": [],
   "source": [
    "# apply assignID to 'data_client_raw' to column, 'Person ID'\n",
    "data_client_raw['Person ID'] = data_client_raw.apply(lambda row: assignID_0(row), axis = 1)"
   ]
  },
  {
   "cell_type": "markdown",
   "id": "47471df9",
   "metadata": {},
   "source": [
    "#### 1.2 Program Data Preparation"
   ]
  },
  {
   "cell_type": "markdown",
   "id": "e4c973d9",
   "metadata": {},
   "source": [
    "##### Program Column Names"
   ]
  },
  {
   "cell_type": "code",
   "execution_count": 35,
   "id": "f63f9be1",
   "metadata": {},
   "outputs": [
    {
     "name": "stdout",
     "output_type": "stream",
     "text": [
      "Index(['Person ID', 'Program', 'Date', 'Attended'], dtype='object')\n"
     ]
    }
   ],
   "source": [
    "# get 'data_program_raw' column names\n",
    "print(data_program_raw.columns)"
   ]
  },
  {
   "cell_type": "code",
   "execution_count": 36,
   "id": "279fb534",
   "metadata": {},
   "outputs": [],
   "source": [
    "# rename 'Date' column to 'Program Date' and 'Attended' to 'Program Attended' in 'data_program_raw' \n",
    "data_program_raw.columns = ['Person ID', 'Program', 'Program Date', 'Program Attendence']"
   ]
  },
  {
   "cell_type": "markdown",
   "id": "61493d5b",
   "metadata": {},
   "source": [
    "##### Program Dates"
   ]
  },
  {
   "cell_type": "code",
   "execution_count": 37,
   "id": "1d117387",
   "metadata": {},
   "outputs": [],
   "source": [
    "# make sure that 'Program Date' column in 'data_client_raw' is actually a date\n",
    "    ## NOTE: date is in dd/mm/yyyy format, NOT mm/dd/yyyy\n",
    "data_program_raw['Program Date'] = pd.to_datetime(data_program_raw['Program Date'], format = \"%d/%m/%Y\")"
   ]
  },
  {
   "cell_type": "markdown",
   "id": "ebbe0bf0",
   "metadata": {},
   "source": [
    "##### Program Person IDs"
   ]
  },
  {
   "cell_type": "code",
   "execution_count": 38,
   "id": "21cb5581",
   "metadata": {},
   "outputs": [],
   "source": [
    "# create a new function, 'assignID_1' to creates a new Person ID with add-ons '_00' and '_01' for clients that have more than one case\n",
    "    ## considering the 'Program Date'\n",
    "def assignID_1(row):\n",
    "    person_id = row['Person ID']\n",
    "    program_date = row['Program Date']\n",
    "    \n",
    "    if int(person_id) in values and program_date.year == 2018:\n",
    "        person_id = person_id + '_00'\n",
    "        \n",
    "    elif int(person_id) in values and program_date.year == 2019:\n",
    "        person_id = person_id + '_01'\n",
    "        \n",
    "    else:\n",
    "        person_id = person_id\n",
    "    return person_id"
   ]
  },
  {
   "cell_type": "code",
   "execution_count": 39,
   "id": "c01ed6c6",
   "metadata": {},
   "outputs": [],
   "source": [
    "# convert 'data_program_raw' 'Person ID' to string\n",
    "data_program_raw['Person ID'] = data_program_raw['Person ID'].astype(str)"
   ]
  },
  {
   "cell_type": "code",
   "execution_count": 40,
   "id": "10a29a4f",
   "metadata": {},
   "outputs": [],
   "source": [
    "# apply assignID to 'data_program_raw' to make column, 'Person ID'\n",
    "data_program_raw['Person ID'] = data_program_raw.apply(lambda row: assignID_1(row), axis = 1)"
   ]
  },
  {
   "cell_type": "markdown",
   "id": "ceac2a7e",
   "metadata": {},
   "source": [
    "### 2. Merging Prepared Data"
   ]
  },
  {
   "cell_type": "code",
   "execution_count": 41,
   "id": "b2a9fd44",
   "metadata": {},
   "outputs": [
    {
     "name": "stdout",
     "output_type": "stream",
     "text": [
      "The listed Person IDs are identical\n"
     ]
    }
   ],
   "source": [
    "# make sure that 'Person ID' can be merged on for 'data_client_raw' and 'data_program_raw'\n",
    "\n",
    "# create lists to store 'Person ID' values from each 'data_client_raw' and 'data_program_raw' dataframes\n",
    "client_IDs = list(data_client_raw['Person ID'].unique())\n",
    "program_IDs = list(data_program_raw['Person ID'].unique())\n",
    "\n",
    "# check if lists with 'Person ID' info are equal\n",
    "# sorting both the lists\n",
    "client_IDs.sort()\n",
    "client_IDs.sort()\n",
    " \n",
    "# using == to check if lists are equal\n",
    "if client_IDs == program_IDs:\n",
    "    print(\"The listed Person IDs are identical\")\n",
    "else:\n",
    "    print(\"The listed Person IDs are not identical\")"
   ]
  },
  {
   "cell_type": "code",
   "execution_count": 42,
   "id": "70facdd6",
   "metadata": {},
   "outputs": [],
   "source": [
    "# merge 'data_client_raw' and 'data_program_raw' dataframes on the 'Person ID'\n",
    "data_merge = pd.merge(data_client_raw, data_program_raw, on= 'Person ID')"
   ]
  },
  {
   "cell_type": "code",
   "execution_count": 43,
   "id": "740fc8ca",
   "metadata": {},
   "outputs": [
    {
     "data": {
      "text/html": [
       "<div>\n",
       "<style scoped>\n",
       "    .dataframe tbody tr th:only-of-type {\n",
       "        vertical-align: middle;\n",
       "    }\n",
       "\n",
       "    .dataframe tbody tr th {\n",
       "        vertical-align: top;\n",
       "    }\n",
       "\n",
       "    .dataframe thead th {\n",
       "        text-align: right;\n",
       "    }\n",
       "</style>\n",
       "<table border=\"1\" class=\"dataframe\">\n",
       "  <thead>\n",
       "    <tr style=\"text-align: right;\">\n",
       "      <th></th>\n",
       "      <th>First Name</th>\n",
       "      <th>Last Name</th>\n",
       "      <th>Date of Birth</th>\n",
       "      <th>Person ID</th>\n",
       "      <th>Case Opened Date</th>\n",
       "      <th>Case Closed Date</th>\n",
       "      <th>Program</th>\n",
       "      <th>Program Date</th>\n",
       "      <th>Program Attendence</th>\n",
       "    </tr>\n",
       "  </thead>\n",
       "  <tbody>\n",
       "    <tr>\n",
       "      <th>0</th>\n",
       "      <td>Tweety</td>\n",
       "      <td>Bird</td>\n",
       "      <td>1987-05-09</td>\n",
       "      <td>1000010</td>\n",
       "      <td>2019-05-09</td>\n",
       "      <td>2019-10-16</td>\n",
       "      <td>Individual Counseling</td>\n",
       "      <td>2019-10-02</td>\n",
       "      <td>Cancelled</td>\n",
       "    </tr>\n",
       "    <tr>\n",
       "      <th>1</th>\n",
       "      <td>Tweety</td>\n",
       "      <td>Bird</td>\n",
       "      <td>1987-05-09</td>\n",
       "      <td>1000010</td>\n",
       "      <td>2019-05-09</td>\n",
       "      <td>2019-10-16</td>\n",
       "      <td>Individual Counseling</td>\n",
       "      <td>2019-10-07</td>\n",
       "      <td>Cancelled</td>\n",
       "    </tr>\n",
       "    <tr>\n",
       "      <th>2</th>\n",
       "      <td>Tweety</td>\n",
       "      <td>Bird</td>\n",
       "      <td>1987-05-09</td>\n",
       "      <td>1000010</td>\n",
       "      <td>2019-05-09</td>\n",
       "      <td>2019-10-16</td>\n",
       "      <td>Group Class</td>\n",
       "      <td>2019-09-13</td>\n",
       "      <td>Y</td>\n",
       "    </tr>\n",
       "    <tr>\n",
       "      <th>3</th>\n",
       "      <td>Tweety</td>\n",
       "      <td>Bird</td>\n",
       "      <td>1987-05-09</td>\n",
       "      <td>1000010</td>\n",
       "      <td>2019-05-09</td>\n",
       "      <td>2019-10-16</td>\n",
       "      <td>Group Class</td>\n",
       "      <td>2019-09-21</td>\n",
       "      <td>Y</td>\n",
       "    </tr>\n",
       "    <tr>\n",
       "      <th>4</th>\n",
       "      <td>Tweety</td>\n",
       "      <td>Bird</td>\n",
       "      <td>1987-05-09</td>\n",
       "      <td>1000010</td>\n",
       "      <td>2019-05-09</td>\n",
       "      <td>2019-10-16</td>\n",
       "      <td>Group Class</td>\n",
       "      <td>2019-09-29</td>\n",
       "      <td>Y</td>\n",
       "    </tr>\n",
       "    <tr>\n",
       "      <th>...</th>\n",
       "      <td>...</td>\n",
       "      <td>...</td>\n",
       "      <td>...</td>\n",
       "      <td>...</td>\n",
       "      <td>...</td>\n",
       "      <td>...</td>\n",
       "      <td>...</td>\n",
       "      <td>...</td>\n",
       "      <td>...</td>\n",
       "    </tr>\n",
       "    <tr>\n",
       "      <th>172</th>\n",
       "      <td>Ralph</td>\n",
       "      <td>Phillips</td>\n",
       "      <td>1999-09-29</td>\n",
       "      <td>1000220</td>\n",
       "      <td>2019-05-12</td>\n",
       "      <td>2019-09-01</td>\n",
       "      <td>Group Class</td>\n",
       "      <td>2019-08-20</td>\n",
       "      <td>Y</td>\n",
       "    </tr>\n",
       "    <tr>\n",
       "      <th>173</th>\n",
       "      <td>Ralph</td>\n",
       "      <td>Phillips</td>\n",
       "      <td>1999-09-29</td>\n",
       "      <td>1000220</td>\n",
       "      <td>2019-05-12</td>\n",
       "      <td>2019-09-01</td>\n",
       "      <td>Individual Counseling</td>\n",
       "      <td>2019-10-26</td>\n",
       "      <td>Cancelled</td>\n",
       "    </tr>\n",
       "    <tr>\n",
       "      <th>174</th>\n",
       "      <td>Ralph</td>\n",
       "      <td>Phillips</td>\n",
       "      <td>1999-09-29</td>\n",
       "      <td>1000220</td>\n",
       "      <td>2019-05-12</td>\n",
       "      <td>2019-09-01</td>\n",
       "      <td>Individual Counseling</td>\n",
       "      <td>2019-05-18</td>\n",
       "      <td>Y</td>\n",
       "    </tr>\n",
       "    <tr>\n",
       "      <th>175</th>\n",
       "      <td>Ralph</td>\n",
       "      <td>Phillips</td>\n",
       "      <td>1999-09-29</td>\n",
       "      <td>1000220</td>\n",
       "      <td>2019-05-12</td>\n",
       "      <td>2019-09-01</td>\n",
       "      <td>Individual Counseling</td>\n",
       "      <td>2019-07-12</td>\n",
       "      <td>N</td>\n",
       "    </tr>\n",
       "    <tr>\n",
       "      <th>176</th>\n",
       "      <td>Ralph</td>\n",
       "      <td>Phillips</td>\n",
       "      <td>1999-09-29</td>\n",
       "      <td>1000220</td>\n",
       "      <td>2019-05-12</td>\n",
       "      <td>2019-09-01</td>\n",
       "      <td>Individual Counseling</td>\n",
       "      <td>2019-08-18</td>\n",
       "      <td>N</td>\n",
       "    </tr>\n",
       "  </tbody>\n",
       "</table>\n",
       "<p>177 rows × 9 columns</p>\n",
       "</div>"
      ],
      "text/plain": [
       "    First Name Last Name Date of Birth Person ID Case Opened Date  \\\n",
       "0       Tweety      Bird    1987-05-09   1000010       2019-05-09   \n",
       "1       Tweety      Bird    1987-05-09   1000010       2019-05-09   \n",
       "2       Tweety      Bird    1987-05-09   1000010       2019-05-09   \n",
       "3       Tweety      Bird    1987-05-09   1000010       2019-05-09   \n",
       "4       Tweety      Bird    1987-05-09   1000010       2019-05-09   \n",
       "..         ...       ...           ...       ...              ...   \n",
       "172      Ralph  Phillips    1999-09-29   1000220       2019-05-12   \n",
       "173      Ralph  Phillips    1999-09-29   1000220       2019-05-12   \n",
       "174      Ralph  Phillips    1999-09-29   1000220       2019-05-12   \n",
       "175      Ralph  Phillips    1999-09-29   1000220       2019-05-12   \n",
       "176      Ralph  Phillips    1999-09-29   1000220       2019-05-12   \n",
       "\n",
       "    Case Closed Date                Program Program Date Program Attendence  \n",
       "0         2019-10-16  Individual Counseling   2019-10-02          Cancelled  \n",
       "1         2019-10-16  Individual Counseling   2019-10-07          Cancelled  \n",
       "2         2019-10-16            Group Class   2019-09-13                  Y  \n",
       "3         2019-10-16            Group Class   2019-09-21                  Y  \n",
       "4         2019-10-16            Group Class   2019-09-29                  Y  \n",
       "..               ...                    ...          ...                ...  \n",
       "172       2019-09-01            Group Class   2019-08-20                  Y  \n",
       "173       2019-09-01  Individual Counseling   2019-10-26          Cancelled  \n",
       "174       2019-09-01  Individual Counseling   2019-05-18                  Y  \n",
       "175       2019-09-01  Individual Counseling   2019-07-12                  N  \n",
       "176       2019-09-01  Individual Counseling   2019-08-18                  N  \n",
       "\n",
       "[177 rows x 9 columns]"
      ]
     },
     "execution_count": 43,
     "metadata": {},
     "output_type": "execute_result"
    }
   ],
   "source": [
    "# gain insight into 'data_merge'\n",
    "data_merge"
   ]
  },
  {
   "cell_type": "markdown",
   "id": "1a50e6f1",
   "metadata": {},
   "source": [
    "### 3. Adding Data Columns from Merged Data"
   ]
  },
  {
   "cell_type": "code",
   "execution_count": 44,
   "id": "306fcad6",
   "metadata": {},
   "outputs": [],
   "source": [
    "# create a copy of 'data_merge' called 'data'\n",
    "data = data_merge.copy()"
   ]
  },
  {
   "cell_type": "markdown",
   "id": "bef2bfc4",
   "metadata": {},
   "source": [
    "#### 3.1 Adding Age"
   ]
  },
  {
   "cell_type": "code",
   "execution_count": 45,
   "id": "8f2c7820",
   "metadata": {},
   "outputs": [],
   "source": [
    "# calculate age of client at time of case opening for 'data'\n",
    "data['age'] = ((data['Case Opened Date'] - data['Date of Birth']) / np.timedelta64(1, 'Y')).astype('int')"
   ]
  },
  {
   "cell_type": "code",
   "execution_count": 46,
   "id": "fddcdeb5",
   "metadata": {},
   "outputs": [
    {
     "data": {
      "text/plain": [
       "array([32, 26, 21, 28, 29, 19, 18, -4, 23, 33, 43, 27, 31, 25, 17, 16, 53,\n",
       "       61])"
      ]
     },
     "execution_count": 46,
     "metadata": {},
     "output_type": "execute_result"
    }
   ],
   "source": [
    "# get insight into 'data' 'age'\n",
    "data['age'].unique()\n",
    "\n",
    "## NOTE: An 'age' of -4 is impossible"
   ]
  },
  {
   "cell_type": "code",
   "execution_count": 47,
   "id": "dc6b7a33",
   "metadata": {},
   "outputs": [
    {
     "data": {
      "text/plain": [
       " 19    43\n",
       " 53    14\n",
       " 25    14\n",
       " 61    11\n",
       " 26    10\n",
       " 21    10\n",
       " 17     8\n",
       " 32     8\n",
       " 18     8\n",
       " 43     7\n",
       " 28     7\n",
       " 23     6\n",
       "-4      6\n",
       " 31     6\n",
       " 33     6\n",
       " 27     5\n",
       " 16     5\n",
       " 29     3\n",
       "Name: age, dtype: int64"
      ]
     },
     "execution_count": 47,
     "metadata": {},
     "output_type": "execute_result"
    }
   ],
   "source": [
    "# get insight into 'data' age'\n",
    "data['age'].value_counts()\n",
    "\n",
    "## NOTE: An 'age' of -4 is impossible.  This is clearly an error in the data that is worth mentioning (LIMITATION)"
   ]
  },
  {
   "cell_type": "code",
   "execution_count": 48,
   "id": "e783b785",
   "metadata": {},
   "outputs": [
    {
     "data": {
      "text/html": [
       "<div>\n",
       "<style scoped>\n",
       "    .dataframe tbody tr th:only-of-type {\n",
       "        vertical-align: middle;\n",
       "    }\n",
       "\n",
       "    .dataframe tbody tr th {\n",
       "        vertical-align: top;\n",
       "    }\n",
       "\n",
       "    .dataframe thead th {\n",
       "        text-align: right;\n",
       "    }\n",
       "</style>\n",
       "<table border=\"1\" class=\"dataframe\">\n",
       "  <thead>\n",
       "    <tr style=\"text-align: right;\">\n",
       "      <th></th>\n",
       "      <th>First Name</th>\n",
       "      <th>Last Name</th>\n",
       "      <th>Date of Birth</th>\n",
       "      <th>Person ID</th>\n",
       "      <th>Case Opened Date</th>\n",
       "      <th>Case Closed Date</th>\n",
       "      <th>Program</th>\n",
       "      <th>Program Date</th>\n",
       "      <th>Program Attendence</th>\n",
       "      <th>age</th>\n",
       "    </tr>\n",
       "  </thead>\n",
       "  <tbody>\n",
       "    <tr>\n",
       "      <th>47</th>\n",
       "      <td>Marvin</td>\n",
       "      <td>Martian</td>\n",
       "      <td>2023-12-05</td>\n",
       "      <td>1000070</td>\n",
       "      <td>2019-05-15</td>\n",
       "      <td>2019-09-21</td>\n",
       "      <td>Individual Counseling</td>\n",
       "      <td>2019-06-12</td>\n",
       "      <td>Y</td>\n",
       "      <td>-4</td>\n",
       "    </tr>\n",
       "    <tr>\n",
       "      <th>48</th>\n",
       "      <td>Marvin</td>\n",
       "      <td>Martian</td>\n",
       "      <td>2023-12-05</td>\n",
       "      <td>1000070</td>\n",
       "      <td>2019-05-15</td>\n",
       "      <td>2019-09-21</td>\n",
       "      <td>Individual Counseling</td>\n",
       "      <td>2019-06-17</td>\n",
       "      <td>Y</td>\n",
       "      <td>-4</td>\n",
       "    </tr>\n",
       "    <tr>\n",
       "      <th>49</th>\n",
       "      <td>Marvin</td>\n",
       "      <td>Martian</td>\n",
       "      <td>2023-12-05</td>\n",
       "      <td>1000070</td>\n",
       "      <td>2019-05-15</td>\n",
       "      <td>2019-09-21</td>\n",
       "      <td>Individual Counseling</td>\n",
       "      <td>2019-06-27</td>\n",
       "      <td>Y</td>\n",
       "      <td>-4</td>\n",
       "    </tr>\n",
       "    <tr>\n",
       "      <th>50</th>\n",
       "      <td>Marvin</td>\n",
       "      <td>Martian</td>\n",
       "      <td>2023-12-05</td>\n",
       "      <td>1000070</td>\n",
       "      <td>2019-05-15</td>\n",
       "      <td>2019-09-21</td>\n",
       "      <td>Group Class</td>\n",
       "      <td>2019-12-15</td>\n",
       "      <td>Cancelled</td>\n",
       "      <td>-4</td>\n",
       "    </tr>\n",
       "    <tr>\n",
       "      <th>99</th>\n",
       "      <td>Tasmanian</td>\n",
       "      <td>Devil</td>\n",
       "      <td>2023-11-25</td>\n",
       "      <td>1000140</td>\n",
       "      <td>2019-01-12</td>\n",
       "      <td>2019-07-15</td>\n",
       "      <td>Group Class</td>\n",
       "      <td>2019-02-02</td>\n",
       "      <td>N</td>\n",
       "      <td>-4</td>\n",
       "    </tr>\n",
       "    <tr>\n",
       "      <th>100</th>\n",
       "      <td>Tasmanian</td>\n",
       "      <td>Devil</td>\n",
       "      <td>2023-11-25</td>\n",
       "      <td>1000140</td>\n",
       "      <td>2019-01-12</td>\n",
       "      <td>2019-07-15</td>\n",
       "      <td>Individual Counseling</td>\n",
       "      <td>2019-09-15</td>\n",
       "      <td>Cancelled</td>\n",
       "      <td>-4</td>\n",
       "    </tr>\n",
       "  </tbody>\n",
       "</table>\n",
       "</div>"
      ],
      "text/plain": [
       "    First Name Last Name Date of Birth Person ID Case Opened Date  \\\n",
       "47      Marvin   Martian    2023-12-05   1000070       2019-05-15   \n",
       "48      Marvin   Martian    2023-12-05   1000070       2019-05-15   \n",
       "49      Marvin   Martian    2023-12-05   1000070       2019-05-15   \n",
       "50      Marvin   Martian    2023-12-05   1000070       2019-05-15   \n",
       "99   Tasmanian     Devil    2023-11-25   1000140       2019-01-12   \n",
       "100  Tasmanian     Devil    2023-11-25   1000140       2019-01-12   \n",
       "\n",
       "    Case Closed Date                Program Program Date Program Attendence  \\\n",
       "47        2019-09-21  Individual Counseling   2019-06-12                  Y   \n",
       "48        2019-09-21  Individual Counseling   2019-06-17                  Y   \n",
       "49        2019-09-21  Individual Counseling   2019-06-27                  Y   \n",
       "50        2019-09-21            Group Class   2019-12-15          Cancelled   \n",
       "99        2019-07-15            Group Class   2019-02-02                  N   \n",
       "100       2019-07-15  Individual Counseling   2019-09-15          Cancelled   \n",
       "\n",
       "     age  \n",
       "47    -4  \n",
       "48    -4  \n",
       "49    -4  \n",
       "50    -4  \n",
       "99    -4  \n",
       "100   -4  "
      ]
     },
     "execution_count": 48,
     "metadata": {},
     "output_type": "execute_result"
    }
   ],
   "source": [
    "# gain insight into which client entries are 'age' = '-4'\n",
    "data.loc[data['age']==-4]\n",
    "\n",
    "## NOTE: 2 clients, ('Person ID' = 1000070; and 'Person ID' = 1000140) have 'Date of Birth's listed with the year 2023\n",
    "    ## This is clearly an error in the data (LIMITATION) - make sure to disregard these values (can do this by grouping by\n",
    "    ## x < 0; 0 < x < 25; and x > = 25)"
   ]
  },
  {
   "cell_type": "code",
   "execution_count": 49,
   "id": "f7a145af",
   "metadata": {},
   "outputs": [],
   "source": [
    "# create function, 'getAgeGroup' that takes the 'age' of each client at the date of their case opening and\n",
    "    ## categorizes the concerned citizen into an age group\n",
    "\n",
    "def getAgeGroup(ageValue):\n",
    "    age = int(ageValue)\n",
    "    group = 0\n",
    "    \n",
    "    if age < 0:\n",
    "        group = 'Unidentified Age' \n",
    "    elif age > 0 and age < 25:\n",
    "        group = 'Younger than 25 Years'      \n",
    "    else:\n",
    "        group = '25 Years or Older'\n",
    "    return group"
   ]
  },
  {
   "cell_type": "code",
   "execution_count": 50,
   "id": "c3243855",
   "metadata": {},
   "outputs": [],
   "source": [
    "# apply 'getAgeGroup' function to 'data' to make new column, 'age_group'\n",
    "data['age_group'] = data['age'].apply(lambda row: getAgeGroup(row))"
   ]
  },
  {
   "cell_type": "code",
   "execution_count": 51,
   "id": "e5687013",
   "metadata": {},
   "outputs": [],
   "source": [
    "# create new 'data' columns, that both sum and take the mean of important columns of interest to create counts and averages \n",
    "    ## per demographic category of interest\n",
    "\n",
    "# get age specific column counts\n",
    "data['Unidentified Age'] = data['age_group'].apply(lambda x: 1 if x=='Unidentified Age' else 0)\n",
    "data['Younger than 25 Years'] = data['age_group'].apply(lambda x: 1 if x=='Younger than 25 Years' else 0)\n",
    "data['25 Years or Older'] = data['age_group'].apply(lambda x: 1 if x=='25 Years or Older' else 0)"
   ]
  },
  {
   "cell_type": "markdown",
   "id": "3a63e920",
   "metadata": {},
   "source": [
    "#### 3.2 Adding Program Group"
   ]
  },
  {
   "cell_type": "code",
   "execution_count": 52,
   "id": "73ddcb28",
   "metadata": {},
   "outputs": [
    {
     "data": {
      "text/plain": [
       "array(['Individual Counseling', 'Group Class'], dtype=object)"
      ]
     },
     "execution_count": 52,
     "metadata": {},
     "output_type": "execute_result"
    }
   ],
   "source": [
    "# get insight into 'data' 'Program'\n",
    "data['Program'].unique()"
   ]
  },
  {
   "cell_type": "code",
   "execution_count": 53,
   "id": "03b0b2bd",
   "metadata": {},
   "outputs": [],
   "source": [
    "# create new 'data' columns, that both sum and take the mean of important columns of interest to create counts and averages \n",
    "    ## per demographic category of interest\n",
    "\n",
    "# get program group specific column counts\n",
    "data['Individual Counseling'] = data['Program'].apply(lambda x: 1 if x=='Individual Counseling' else 0)\n",
    "data['Group Class'] = data['Program'].apply(lambda x: 1 if x=='Group Class' else 0)"
   ]
  },
  {
   "cell_type": "markdown",
   "id": "5513e13e",
   "metadata": {},
   "source": [
    "#### 3.3 Adding Program Attendence Group"
   ]
  },
  {
   "cell_type": "code",
   "execution_count": 54,
   "id": "8b9842c4",
   "metadata": {},
   "outputs": [
    {
     "data": {
      "text/plain": [
       "array(['Cancelled', 'Y', 'N'], dtype=object)"
      ]
     },
     "execution_count": 54,
     "metadata": {},
     "output_type": "execute_result"
    }
   ],
   "source": [
    "# get insight into 'data' 'Program'\n",
    "data['Program Attendence'].unique()\n",
    "\n",
    "## NOTE: An ASSUMPTION is made that:\n",
    "    ## 'Cancelled' refers to the nonprofit cancelling that programming for the day (i.e., NOT the client cancelling their session)\n",
    "    ## 'Y' means that the client did attend the scheduled program\n",
    "    ## 'N' means that the client did not attend the scheduled program"
   ]
  },
  {
   "cell_type": "code",
   "execution_count": 55,
   "id": "1dee1116",
   "metadata": {},
   "outputs": [],
   "source": [
    "# create new 'data' columns, that both sum and take the mean of important columns of interest to create counts and averages \n",
    "    ## per demographic category of interest\n",
    "\n",
    "# get program attendence specific column counts\n",
    "data['Program Attended'] = data['Program Attendence'].apply(lambda x: 1 if x=='Y' else 0)\n",
    "data['Program Not Attended'] = data['Program Attendence'].apply(lambda x: 1 if x=='N' else 0)\n",
    "data['Program Cancelled'] = data['Program Attendence'].apply(lambda x: 1 if x=='Cancelled' else 0)"
   ]
  },
  {
   "cell_type": "markdown",
   "id": "5cdd4c0d",
   "metadata": {},
   "source": [
    "#### 3.4 Adding Program Year Group"
   ]
  },
  {
   "cell_type": "code",
   "execution_count": 56,
   "id": "38d2bd3e",
   "metadata": {},
   "outputs": [],
   "source": [
    "# create function, 'getProgramYearGroup' that takes the year of 'Program Date' for each instances and\n",
    "    ## categorizes the concerned client's session as either a '2018 Program' or a '2019 Program'\n",
    "\n",
    "def getProgramYearGroup(row):\n",
    "    program_date = row['Program Date']\n",
    "    group = 0\n",
    "    \n",
    "    if program_date.year == 2018:\n",
    "        group = '2018 Program' \n",
    "    elif program_date.year == 2019:\n",
    "        group = '2019 Program'      \n",
    "    else:\n",
    "        group = 'Unidentified Program Year'\n",
    "    return group"
   ]
  },
  {
   "cell_type": "code",
   "execution_count": 57,
   "id": "97ae2a0d",
   "metadata": {},
   "outputs": [],
   "source": [
    "# apply 'getProgramYearGroup' function to 'data' to make new column, 'program_year_group'\n",
    "data['program_year_group'] = data.apply(lambda row: getProgramYearGroup(row), axis = 1)"
   ]
  },
  {
   "cell_type": "code",
   "execution_count": 58,
   "id": "46c2d929",
   "metadata": {},
   "outputs": [
    {
     "data": {
      "text/plain": [
       "array(['2019 Program', '2018 Program'], dtype=object)"
      ]
     },
     "execution_count": 58,
     "metadata": {},
     "output_type": "execute_result"
    }
   ],
   "source": [
    "# gain insight into 'program_year_group' column in 'data'\n",
    "data['program_year_group'].unique()"
   ]
  },
  {
   "cell_type": "code",
   "execution_count": 59,
   "id": "8081c9ef",
   "metadata": {},
   "outputs": [],
   "source": [
    "# create new 'data' columns, that both sum and take the mean of important columns of interest to create counts and averages \n",
    "    ## per demographic category of interest\n",
    "\n",
    "# get program year specific column counts\n",
    "data['2018 Program'] = data['program_year_group'].apply(lambda x: 1 if x=='2018 Program' else 0)\n",
    "data['2019 Program'] = data['program_year_group'].apply(lambda x: 1 if x=='2019 Program' else 0)"
   ]
  },
  {
   "cell_type": "markdown",
   "id": "51649069",
   "metadata": {},
   "source": [
    "#### 3.4 Adding Case Status Group"
   ]
  },
  {
   "cell_type": "code",
   "execution_count": 60,
   "id": "6973eb6c",
   "metadata": {},
   "outputs": [],
   "source": [
    "# create function, 'getCaseStatusGroup' that checks for each instance if 'Case Closed Date' is 'null' or not\n",
    "    ## and then categorizes the concerned client's case as either 'Case Open' or 'Case Closed'\n",
    "\n",
    "## NOTE:  ASSUMPTION is being made that:\n",
    "    ## if a case DOES NOT have a 'Case Closed Date' listed, then it CANNOT be confirmed to be closed (i.e., it is 'Case Not Confirmed Closed')\n",
    "    ## if a case DOES have a 'Case Closed Date' listed, then it CAN be confrimed to be closed (i.e., it is 'Case Confirmed Closed')\n",
    "\n",
    "def getCaseStatusGroup(row):\n",
    "    close_date = row['Case Closed Date']\n",
    "    group = 0\n",
    "    \n",
    "    if close_date is pd.NaT:\n",
    "\n",
    "        group = 'Case Not Confirmed Closed'      \n",
    "    else:\n",
    "        group = 'Case Confirmed Closed'\n",
    "    return group"
   ]
  },
  {
   "cell_type": "code",
   "execution_count": 61,
   "id": "a1b7c28a",
   "metadata": {},
   "outputs": [],
   "source": [
    "# apply 'getCaseStatusGroup' function to 'data' to make new column, 'case_status_group'\n",
    "data['case_status_group'] = data.apply(lambda row: getCaseStatusGroup(row), axis = 1)"
   ]
  },
  {
   "cell_type": "code",
   "execution_count": 62,
   "id": "e5186194",
   "metadata": {},
   "outputs": [],
   "source": [
    "# create new 'data' columns, that both sum and take the mean of important columns of interest to create counts and averages \n",
    "    ## per demographic category of interest\n",
    "\n",
    "# get case status specific column counts\n",
    "data['Case Not Confirmed Closed'] = data['case_status_group'].apply(lambda x: 1 if x=='Case Not Confirmed Closed' else 0)\n",
    "data['Case Confirmed Closed'] = data['case_status_group'].apply(lambda x: 1 if x=='Case Confirmed Closed' else 0)"
   ]
  },
  {
   "cell_type": "markdown",
   "id": "1f0c4577",
   "metadata": {},
   "source": [
    "#### 3.5 Adding Count Column"
   ]
  },
  {
   "cell_type": "code",
   "execution_count": 63,
   "id": "3b1af63d",
   "metadata": {},
   "outputs": [],
   "source": [
    "# add 'count' column and set it equal to '1' for 'data' for future counting\n",
    "data['count'] = 1"
   ]
  },
  {
   "cell_type": "markdown",
   "id": "95278c69",
   "metadata": {},
   "source": [
    "### 4. Preparing Data for Export"
   ]
  },
  {
   "cell_type": "code",
   "execution_count": 65,
   "id": "e3095cd7",
   "metadata": {},
   "outputs": [],
   "source": [
    "# write 'data_merge' to a csv\n",
    "data_merge.to_csv('data/interim/data_merge.csv', encoding = 'utf-8', index = False)\n",
    "\n",
    "# write 'data' to a csv\n",
    "data.to_csv('data/interim/data.csv', encoding = 'utf-8', index = False)"
   ]
  }
 ],
 "metadata": {
  "kernelspec": {
   "display_name": "Python 3 (ipykernel)",
   "language": "python",
   "name": "python3"
  },
  "language_info": {
   "codemirror_mode": {
    "name": "ipython",
    "version": 3
   },
   "file_extension": ".py",
   "mimetype": "text/x-python",
   "name": "python",
   "nbconvert_exporter": "python",
   "pygments_lexer": "ipython3",
   "version": "3.7.3"
  }
 },
 "nbformat": 4,
 "nbformat_minor": 5
}
